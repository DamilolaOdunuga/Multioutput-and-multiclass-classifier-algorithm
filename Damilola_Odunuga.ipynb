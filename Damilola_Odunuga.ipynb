{
 "cells": [
  {
   "cell_type": "markdown",
   "id": "8eeee0e5",
   "metadata": {},
   "source": [
    "### NARALYTIC - GROUP PROJECT"
   ]
  },
  {
   "cell_type": "code",
   "execution_count": 1,
   "id": "27d004fa",
   "metadata": {},
   "outputs": [],
   "source": [
    "#Import libraries\n",
    "import pandas as pd\n",
    "import numpy as np\n",
    "import bamboolib as bam\n",
    "import matplotlib.pyplot as plt\n",
    "import seaborn as sns\n",
    "import sklearn.svm as svm\n",
    "from sklearn.multioutput import MultiOutputClassifier"
   ]
  },
  {
   "cell_type": "code",
   "execution_count": 2,
   "id": "250cfc71",
   "metadata": {},
   "outputs": [
    {
     "data": {
      "application/vnd.jupyter.widget-view+json": {
       "model_id": "8bcbdb09c1644d30871a5a4999fcddf4"
      },
      "text/html": [
       "<div>\n",
       "<style scoped>\n",
       "    .dataframe tbody tr th:only-of-type {\n",
       "        vertical-align: middle;\n",
       "    }\n",
       "\n",
       "    .dataframe tbody tr th {\n",
       "        vertical-align: top;\n",
       "    }\n",
       "\n",
       "    .dataframe thead th {\n",
       "        text-align: right;\n",
       "    }\n",
       "</style>\n",
       "<table border=\"1\" class=\"dataframe\">\n",
       "  <thead>\n",
       "    <tr style=\"text-align: right;\">\n",
       "      <th></th>\n",
       "      <th>Age</th>\n",
       "      <th>Unnamed: 1</th>\n",
       "      <th>Unnamed: 2</th>\n",
       "      <th>Gender</th>\n",
       "      <th>Unnamed: 4</th>\n",
       "      <th>Unnamed: 5</th>\n",
       "      <th>Environment</th>\n",
       "      <th>Unnamed: 7</th>\n",
       "      <th>Unnamed: 8</th>\n",
       "      <th>Unnamed: 9</th>\n",
       "      <th>...</th>\n",
       "      <th>Unnamed: 364</th>\n",
       "      <th>Unnamed: 365</th>\n",
       "      <th>Unnamed: 366</th>\n",
       "      <th>Unnamed: 367</th>\n",
       "      <th>Unnamed: 368</th>\n",
       "      <th>Unnamed: 369</th>\n",
       "      <th>Unnamed: 370</th>\n",
       "      <th>Unnamed: 371</th>\n",
       "      <th>Unnamed: 372</th>\n",
       "      <th>Unnamed: 373</th>\n",
       "    </tr>\n",
       "  </thead>\n",
       "  <tbody>\n",
       "    <tr>\n",
       "      <th>0</th>\n",
       "      <td>Age 0_20</td>\n",
       "      <td>Age 21_30</td>\n",
       "      <td>Age 31</td>\n",
       "      <td>Gender_Male</td>\n",
       "      <td>Gender_Female</td>\n",
       "      <td>Gender_Non_Binary</td>\n",
       "      <td>Work</td>\n",
       "      <td>Family</td>\n",
       "      <td>Social</td>\n",
       "      <td>Institution</td>\n",
       "      <td>...</td>\n",
       "      <td>NaN</td>\n",
       "      <td>NaN</td>\n",
       "      <td>NaN</td>\n",
       "      <td>NaN</td>\n",
       "      <td>NaN</td>\n",
       "      <td>NaN</td>\n",
       "      <td>NaN</td>\n",
       "      <td>NaN</td>\n",
       "      <td>NaN</td>\n",
       "      <td>NaN</td>\n",
       "    </tr>\n",
       "    <tr>\n",
       "      <th>1</th>\n",
       "      <td>1</td>\n",
       "      <td>0</td>\n",
       "      <td>0</td>\n",
       "      <td>0</td>\n",
       "      <td>1</td>\n",
       "      <td>0</td>\n",
       "      <td>0</td>\n",
       "      <td>0</td>\n",
       "      <td>1</td>\n",
       "      <td>0</td>\n",
       "      <td>...</td>\n",
       "      <td>NaN</td>\n",
       "      <td>NaN</td>\n",
       "      <td>NaN</td>\n",
       "      <td>NaN</td>\n",
       "      <td>NaN</td>\n",
       "      <td>NaN</td>\n",
       "      <td>NaN</td>\n",
       "      <td>NaN</td>\n",
       "      <td>NaN</td>\n",
       "      <td>NaN</td>\n",
       "    </tr>\n",
       "    <tr>\n",
       "      <th>2</th>\n",
       "      <td>1</td>\n",
       "      <td>0</td>\n",
       "      <td>0</td>\n",
       "      <td>1</td>\n",
       "      <td>0</td>\n",
       "      <td>0</td>\n",
       "      <td>0</td>\n",
       "      <td>0</td>\n",
       "      <td>1</td>\n",
       "      <td>0</td>\n",
       "      <td>...</td>\n",
       "      <td>NaN</td>\n",
       "      <td>NaN</td>\n",
       "      <td>NaN</td>\n",
       "      <td>NaN</td>\n",
       "      <td>NaN</td>\n",
       "      <td>NaN</td>\n",
       "      <td>NaN</td>\n",
       "      <td>NaN</td>\n",
       "      <td>NaN</td>\n",
       "      <td>NaN</td>\n",
       "    </tr>\n",
       "    <tr>\n",
       "      <th>3</th>\n",
       "      <td>1</td>\n",
       "      <td>0</td>\n",
       "      <td>0</td>\n",
       "      <td>1</td>\n",
       "      <td>0</td>\n",
       "      <td>0</td>\n",
       "      <td>0</td>\n",
       "      <td>0</td>\n",
       "      <td>1</td>\n",
       "      <td>0</td>\n",
       "      <td>...</td>\n",
       "      <td>NaN</td>\n",
       "      <td>NaN</td>\n",
       "      <td>NaN</td>\n",
       "      <td>NaN</td>\n",
       "      <td>NaN</td>\n",
       "      <td>NaN</td>\n",
       "      <td>NaN</td>\n",
       "      <td>NaN</td>\n",
       "      <td>NaN</td>\n",
       "      <td>NaN</td>\n",
       "    </tr>\n",
       "    <tr>\n",
       "      <th>4</th>\n",
       "      <td>1</td>\n",
       "      <td>0</td>\n",
       "      <td>0</td>\n",
       "      <td>0</td>\n",
       "      <td>1</td>\n",
       "      <td>0</td>\n",
       "      <td>0</td>\n",
       "      <td>1</td>\n",
       "      <td>0</td>\n",
       "      <td>0</td>\n",
       "      <td>...</td>\n",
       "      <td>NaN</td>\n",
       "      <td>NaN</td>\n",
       "      <td>NaN</td>\n",
       "      <td>NaN</td>\n",
       "      <td>NaN</td>\n",
       "      <td>NaN</td>\n",
       "      <td>NaN</td>\n",
       "      <td>NaN</td>\n",
       "      <td>NaN</td>\n",
       "      <td>NaN</td>\n",
       "    </tr>\n",
       "    <tr>\n",
       "      <th>...</th>\n",
       "      <td>...</td>\n",
       "      <td>...</td>\n",
       "      <td>...</td>\n",
       "      <td>...</td>\n",
       "      <td>...</td>\n",
       "      <td>...</td>\n",
       "      <td>...</td>\n",
       "      <td>...</td>\n",
       "      <td>...</td>\n",
       "      <td>...</td>\n",
       "      <td>...</td>\n",
       "      <td>...</td>\n",
       "      <td>...</td>\n",
       "      <td>...</td>\n",
       "      <td>...</td>\n",
       "      <td>...</td>\n",
       "      <td>...</td>\n",
       "      <td>...</td>\n",
       "      <td>...</td>\n",
       "      <td>...</td>\n",
       "      <td>...</td>\n",
       "    </tr>\n",
       "    <tr>\n",
       "      <th>5167</th>\n",
       "      <td>NaN</td>\n",
       "      <td>NaN</td>\n",
       "      <td>NaN</td>\n",
       "      <td>NaN</td>\n",
       "      <td>NaN</td>\n",
       "      <td>NaN</td>\n",
       "      <td>NaN</td>\n",
       "      <td>NaN</td>\n",
       "      <td>NaN</td>\n",
       "      <td>NaN</td>\n",
       "      <td>...</td>\n",
       "      <td>0.0</td>\n",
       "      <td>0.0</td>\n",
       "      <td>0.0</td>\n",
       "      <td>0.0</td>\n",
       "      <td>0.0</td>\n",
       "      <td>0.0</td>\n",
       "      <td>0.0</td>\n",
       "      <td>0.0</td>\n",
       "      <td>0.0</td>\n",
       "      <td>0.0</td>\n",
       "    </tr>\n",
       "    <tr>\n",
       "      <th>5168</th>\n",
       "      <td>NaN</td>\n",
       "      <td>NaN</td>\n",
       "      <td>NaN</td>\n",
       "      <td>NaN</td>\n",
       "      <td>NaN</td>\n",
       "      <td>NaN</td>\n",
       "      <td>NaN</td>\n",
       "      <td>NaN</td>\n",
       "      <td>NaN</td>\n",
       "      <td>NaN</td>\n",
       "      <td>...</td>\n",
       "      <td>0.0</td>\n",
       "      <td>0.0</td>\n",
       "      <td>0.0</td>\n",
       "      <td>0.0</td>\n",
       "      <td>0.0</td>\n",
       "      <td>0.0</td>\n",
       "      <td>0.0</td>\n",
       "      <td>0.0</td>\n",
       "      <td>0.0</td>\n",
       "      <td>0.0</td>\n",
       "    </tr>\n",
       "    <tr>\n",
       "      <th>5169</th>\n",
       "      <td>NaN</td>\n",
       "      <td>NaN</td>\n",
       "      <td>NaN</td>\n",
       "      <td>NaN</td>\n",
       "      <td>NaN</td>\n",
       "      <td>NaN</td>\n",
       "      <td>NaN</td>\n",
       "      <td>NaN</td>\n",
       "      <td>NaN</td>\n",
       "      <td>NaN</td>\n",
       "      <td>...</td>\n",
       "      <td>0.0</td>\n",
       "      <td>0.0</td>\n",
       "      <td>0.0</td>\n",
       "      <td>0.0</td>\n",
       "      <td>0.0</td>\n",
       "      <td>0.0</td>\n",
       "      <td>0.0</td>\n",
       "      <td>0.0</td>\n",
       "      <td>0.0</td>\n",
       "      <td>0.0</td>\n",
       "    </tr>\n",
       "    <tr>\n",
       "      <th>5170</th>\n",
       "      <td>NaN</td>\n",
       "      <td>NaN</td>\n",
       "      <td>NaN</td>\n",
       "      <td>NaN</td>\n",
       "      <td>NaN</td>\n",
       "      <td>NaN</td>\n",
       "      <td>NaN</td>\n",
       "      <td>NaN</td>\n",
       "      <td>NaN</td>\n",
       "      <td>NaN</td>\n",
       "      <td>...</td>\n",
       "      <td>0.0</td>\n",
       "      <td>0.0</td>\n",
       "      <td>0.0</td>\n",
       "      <td>0.0</td>\n",
       "      <td>0.0</td>\n",
       "      <td>0.0</td>\n",
       "      <td>0.0</td>\n",
       "      <td>0.0</td>\n",
       "      <td>0.0</td>\n",
       "      <td>0.0</td>\n",
       "    </tr>\n",
       "    <tr>\n",
       "      <th>5171</th>\n",
       "      <td>NaN</td>\n",
       "      <td>NaN</td>\n",
       "      <td>NaN</td>\n",
       "      <td>NaN</td>\n",
       "      <td>NaN</td>\n",
       "      <td>NaN</td>\n",
       "      <td>NaN</td>\n",
       "      <td>NaN</td>\n",
       "      <td>NaN</td>\n",
       "      <td>NaN</td>\n",
       "      <td>...</td>\n",
       "      <td>0.0</td>\n",
       "      <td>0.0</td>\n",
       "      <td>0.0</td>\n",
       "      <td>0.0</td>\n",
       "      <td>0.0</td>\n",
       "      <td>0.0</td>\n",
       "      <td>0.0</td>\n",
       "      <td>0.0</td>\n",
       "      <td>0.0</td>\n",
       "      <td>0.0</td>\n",
       "    </tr>\n",
       "  </tbody>\n",
       "</table>\n",
       "<p>5172 rows × 374 columns</p>\n",
       "</div>"
      ],
      "text/plain": [
       "           Age Unnamed: 1 Unnamed: 2       Gender     Unnamed: 4  \\\n",
       "0     Age 0_20  Age 21_30     Age 31  Gender_Male  Gender_Female   \n",
       "1            1          0          0            0              1   \n",
       "2            1          0          0            1              0   \n",
       "3            1          0          0            1              0   \n",
       "4            1          0          0            0              1   \n",
       "...        ...        ...        ...          ...            ...   \n",
       "5167       NaN        NaN        NaN          NaN            NaN   \n",
       "5168       NaN        NaN        NaN          NaN            NaN   \n",
       "5169       NaN        NaN        NaN          NaN            NaN   \n",
       "5170       NaN        NaN        NaN          NaN            NaN   \n",
       "5171       NaN        NaN        NaN          NaN            NaN   \n",
       "\n",
       "             Unnamed: 5 Environment Unnamed: 7 Unnamed: 8   Unnamed: 9  ...  \\\n",
       "0     Gender_Non_Binary        Work     Family     Social  Institution  ...   \n",
       "1                     0           0          0          1            0  ...   \n",
       "2                     0           0          0          1            0  ...   \n",
       "3                     0           0          0          1            0  ...   \n",
       "4                     0           0          1          0            0  ...   \n",
       "...                 ...         ...        ...        ...          ...  ...   \n",
       "5167                NaN         NaN        NaN        NaN          NaN  ...   \n",
       "5168                NaN         NaN        NaN        NaN          NaN  ...   \n",
       "5169                NaN         NaN        NaN        NaN          NaN  ...   \n",
       "5170                NaN         NaN        NaN        NaN          NaN  ...   \n",
       "5171                NaN         NaN        NaN        NaN          NaN  ...   \n",
       "\n",
       "     Unnamed: 364 Unnamed: 365 Unnamed: 366 Unnamed: 367 Unnamed: 368  \\\n",
       "0             NaN          NaN          NaN          NaN          NaN   \n",
       "1             NaN          NaN          NaN          NaN          NaN   \n",
       "2             NaN          NaN          NaN          NaN          NaN   \n",
       "3             NaN          NaN          NaN          NaN          NaN   \n",
       "4             NaN          NaN          NaN          NaN          NaN   \n",
       "...           ...          ...          ...          ...          ...   \n",
       "5167          0.0          0.0          0.0          0.0          0.0   \n",
       "5168          0.0          0.0          0.0          0.0          0.0   \n",
       "5169          0.0          0.0          0.0          0.0          0.0   \n",
       "5170          0.0          0.0          0.0          0.0          0.0   \n",
       "5171          0.0          0.0          0.0          0.0          0.0   \n",
       "\n",
       "     Unnamed: 369 Unnamed: 370 Unnamed: 371 Unnamed: 372 Unnamed: 373  \n",
       "0             NaN          NaN          NaN          NaN          NaN  \n",
       "1             NaN          NaN          NaN          NaN          NaN  \n",
       "2             NaN          NaN          NaN          NaN          NaN  \n",
       "3             NaN          NaN          NaN          NaN          NaN  \n",
       "4             NaN          NaN          NaN          NaN          NaN  \n",
       "...           ...          ...          ...          ...          ...  \n",
       "5167          0.0          0.0          0.0          0.0          0.0  \n",
       "5168          0.0          0.0          0.0          0.0          0.0  \n",
       "5169          0.0          0.0          0.0          0.0          0.0  \n",
       "5170          0.0          0.0          0.0          0.0          0.0  \n",
       "5171          0.0          0.0          0.0          0.0          0.0  \n",
       "\n",
       "[5172 rows x 374 columns]"
      ]
     },
     "metadata": {},
     "output_type": "display_data"
    }
   ],
   "source": [
    "nara = pd.read_excel(\"/Users/damilolaodunuga/Downloads/PC File/ALY 6980/Naralytics Dataset_XN_v2.xlsx\", sheet_name = 5)\n",
    "nara"
   ]
  },
  {
   "cell_type": "markdown",
   "id": "f95ac7a9",
   "metadata": {},
   "source": [
    "#### Removing columns and rows with missing values"
   ]
  },
  {
   "cell_type": "code",
   "execution_count": 3,
   "id": "fcc07afa",
   "metadata": {},
   "outputs": [
    {
     "data": {
      "application/vnd.jupyter.widget-view+json": {
       "model_id": "6fdc55d53ac3402d9c6f90c2621b0a1e"
      },
      "text/html": [
       "<div>\n",
       "<style scoped>\n",
       "    .dataframe tbody tr th:only-of-type {\n",
       "        vertical-align: middle;\n",
       "    }\n",
       "\n",
       "    .dataframe tbody tr th {\n",
       "        vertical-align: top;\n",
       "    }\n",
       "\n",
       "    .dataframe thead th {\n",
       "        text-align: right;\n",
       "    }\n",
       "</style>\n",
       "<table border=\"1\" class=\"dataframe\">\n",
       "  <thead>\n",
       "    <tr style=\"text-align: right;\">\n",
       "      <th></th>\n",
       "      <th>Age</th>\n",
       "      <th>Unnamed: 1</th>\n",
       "      <th>Unnamed: 2</th>\n",
       "      <th>Gender</th>\n",
       "      <th>Unnamed: 4</th>\n",
       "      <th>Unnamed: 5</th>\n",
       "      <th>Environment</th>\n",
       "      <th>Unnamed: 7</th>\n",
       "      <th>Unnamed: 8</th>\n",
       "      <th>Unnamed: 9</th>\n",
       "      <th>...</th>\n",
       "      <th>Unnamed: 295</th>\n",
       "      <th>Unnamed: 296</th>\n",
       "      <th>Unnamed: 297</th>\n",
       "      <th>Unnamed: 298</th>\n",
       "      <th>Unnamed: 299</th>\n",
       "      <th>Unnamed: 300</th>\n",
       "      <th>Unnamed: 301</th>\n",
       "      <th>Unnamed: 302</th>\n",
       "      <th>Unnamed: 303</th>\n",
       "      <th>Positive_Negative_Outcome</th>\n",
       "    </tr>\n",
       "  </thead>\n",
       "  <tbody>\n",
       "    <tr>\n",
       "      <th>0</th>\n",
       "      <td>Age 0_20</td>\n",
       "      <td>Age 21_30</td>\n",
       "      <td>Age 31</td>\n",
       "      <td>Gender_Male</td>\n",
       "      <td>Gender_Female</td>\n",
       "      <td>Gender_Non_Binary</td>\n",
       "      <td>Work</td>\n",
       "      <td>Family</td>\n",
       "      <td>Social</td>\n",
       "      <td>Institution</td>\n",
       "      <td>...</td>\n",
       "      <td>Z_defended_themselves2</td>\n",
       "      <td>X_got_experienced_help2</td>\n",
       "      <td>Z_got_experienced_help2</td>\n",
       "      <td>X_asked_for_advice_from_their_community2</td>\n",
       "      <td>Z_asked_for_advice_from_their_community2</td>\n",
       "      <td>X_talked_to_someone_who_is_affected2</td>\n",
       "      <td>Z_talked_to_someone_who_is_affected2</td>\n",
       "      <td>X_got_someone_else_involved2</td>\n",
       "      <td>Z_got_someone_else_involved2</td>\n",
       "      <td>Positive_Negative_Outcome</td>\n",
       "    </tr>\n",
       "    <tr>\n",
       "      <th>1</th>\n",
       "      <td>1</td>\n",
       "      <td>0</td>\n",
       "      <td>0</td>\n",
       "      <td>0</td>\n",
       "      <td>1</td>\n",
       "      <td>0</td>\n",
       "      <td>0</td>\n",
       "      <td>0</td>\n",
       "      <td>1</td>\n",
       "      <td>0</td>\n",
       "      <td>...</td>\n",
       "      <td>0</td>\n",
       "      <td>0</td>\n",
       "      <td>0</td>\n",
       "      <td>1</td>\n",
       "      <td>0</td>\n",
       "      <td>0</td>\n",
       "      <td>0</td>\n",
       "      <td>0</td>\n",
       "      <td>0</td>\n",
       "      <td>0</td>\n",
       "    </tr>\n",
       "    <tr>\n",
       "      <th>2</th>\n",
       "      <td>1</td>\n",
       "      <td>0</td>\n",
       "      <td>0</td>\n",
       "      <td>1</td>\n",
       "      <td>0</td>\n",
       "      <td>0</td>\n",
       "      <td>0</td>\n",
       "      <td>0</td>\n",
       "      <td>1</td>\n",
       "      <td>0</td>\n",
       "      <td>...</td>\n",
       "      <td>0</td>\n",
       "      <td>0</td>\n",
       "      <td>0</td>\n",
       "      <td>0</td>\n",
       "      <td>0</td>\n",
       "      <td>0</td>\n",
       "      <td>0</td>\n",
       "      <td>0</td>\n",
       "      <td>0</td>\n",
       "      <td>1</td>\n",
       "    </tr>\n",
       "    <tr>\n",
       "      <th>3</th>\n",
       "      <td>1</td>\n",
       "      <td>0</td>\n",
       "      <td>0</td>\n",
       "      <td>1</td>\n",
       "      <td>0</td>\n",
       "      <td>0</td>\n",
       "      <td>0</td>\n",
       "      <td>0</td>\n",
       "      <td>1</td>\n",
       "      <td>0</td>\n",
       "      <td>...</td>\n",
       "      <td>0</td>\n",
       "      <td>0</td>\n",
       "      <td>0</td>\n",
       "      <td>0</td>\n",
       "      <td>0</td>\n",
       "      <td>0</td>\n",
       "      <td>0</td>\n",
       "      <td>0</td>\n",
       "      <td>0</td>\n",
       "      <td>1</td>\n",
       "    </tr>\n",
       "    <tr>\n",
       "      <th>4</th>\n",
       "      <td>1</td>\n",
       "      <td>0</td>\n",
       "      <td>0</td>\n",
       "      <td>0</td>\n",
       "      <td>1</td>\n",
       "      <td>0</td>\n",
       "      <td>0</td>\n",
       "      <td>1</td>\n",
       "      <td>0</td>\n",
       "      <td>0</td>\n",
       "      <td>...</td>\n",
       "      <td>0</td>\n",
       "      <td>0</td>\n",
       "      <td>0</td>\n",
       "      <td>0</td>\n",
       "      <td>0</td>\n",
       "      <td>0</td>\n",
       "      <td>0</td>\n",
       "      <td>0</td>\n",
       "      <td>0</td>\n",
       "      <td>1</td>\n",
       "    </tr>\n",
       "  </tbody>\n",
       "</table>\n",
       "<p>5 rows × 305 columns</p>\n",
       "</div>"
      ],
      "text/plain": [
       "        Age Unnamed: 1 Unnamed: 2       Gender     Unnamed: 4  \\\n",
       "0  Age 0_20  Age 21_30     Age 31  Gender_Male  Gender_Female   \n",
       "1         1          0          0            0              1   \n",
       "2         1          0          0            1              0   \n",
       "3         1          0          0            1              0   \n",
       "4         1          0          0            0              1   \n",
       "\n",
       "          Unnamed: 5 Environment Unnamed: 7 Unnamed: 8   Unnamed: 9  ...  \\\n",
       "0  Gender_Non_Binary        Work     Family     Social  Institution  ...   \n",
       "1                  0           0          0          1            0  ...   \n",
       "2                  0           0          0          1            0  ...   \n",
       "3                  0           0          0          1            0  ...   \n",
       "4                  0           0          1          0            0  ...   \n",
       "\n",
       "             Unnamed: 295             Unnamed: 296             Unnamed: 297  \\\n",
       "0  Z_defended_themselves2  X_got_experienced_help2  Z_got_experienced_help2   \n",
       "1                       0                        0                        0   \n",
       "2                       0                        0                        0   \n",
       "3                       0                        0                        0   \n",
       "4                       0                        0                        0   \n",
       "\n",
       "                               Unnamed: 298  \\\n",
       "0  X_asked_for_advice_from_their_community2   \n",
       "1                                         1   \n",
       "2                                         0   \n",
       "3                                         0   \n",
       "4                                         0   \n",
       "\n",
       "                               Unnamed: 299  \\\n",
       "0  Z_asked_for_advice_from_their_community2   \n",
       "1                                         0   \n",
       "2                                         0   \n",
       "3                                         0   \n",
       "4                                         0   \n",
       "\n",
       "                           Unnamed: 300                          Unnamed: 301  \\\n",
       "0  X_talked_to_someone_who_is_affected2  Z_talked_to_someone_who_is_affected2   \n",
       "1                                     0                                     0   \n",
       "2                                     0                                     0   \n",
       "3                                     0                                     0   \n",
       "4                                     0                                     0   \n",
       "\n",
       "                   Unnamed: 302                  Unnamed: 303  \\\n",
       "0  X_got_someone_else_involved2  Z_got_someone_else_involved2   \n",
       "1                             0                             0   \n",
       "2                             0                             0   \n",
       "3                             0                             0   \n",
       "4                             0                             0   \n",
       "\n",
       "   Positive_Negative_Outcome  \n",
       "0  Positive_Negative_Outcome  \n",
       "1                          0  \n",
       "2                          1  \n",
       "3                          1  \n",
       "4                          1  \n",
       "\n",
       "[5 rows x 305 columns]"
      ]
     },
     "metadata": {},
     "output_type": "display_data"
    }
   ],
   "source": [
    "# Drop columns of index using DataFrame.loc[] and drop() methods.\n",
    "Naralytic = nara.drop(nara.loc[:, 'Unnamed: 305':'Unnamed: 373'].columns,axis = 1)\n",
    "\n",
    "# Create a list containing the index numbers you want to remove\n",
    "index_list = list(range(3005, 5172))\n",
    "\n",
    "Naralytic.drop(Naralytic.index[index_list], inplace =True)\n",
    "\n",
    "Naralytic.head()"
   ]
  },
  {
   "cell_type": "code",
   "execution_count": 4,
   "id": "eb792c6e",
   "metadata": {},
   "outputs": [
    {
     "data": {
      "application/vnd.jupyter.widget-view+json": {
       "model_id": "8bd41d296ac04b369eafd8ea0eb8e046"
      },
      "text/html": [
       "<div>\n",
       "<style scoped>\n",
       "    .dataframe tbody tr th:only-of-type {\n",
       "        vertical-align: middle;\n",
       "    }\n",
       "\n",
       "    .dataframe tbody tr th {\n",
       "        vertical-align: top;\n",
       "    }\n",
       "\n",
       "    .dataframe thead th {\n",
       "        text-align: right;\n",
       "    }\n",
       "</style>\n",
       "<table border=\"1\" class=\"dataframe\">\n",
       "  <thead>\n",
       "    <tr style=\"text-align: right;\">\n",
       "      <th></th>\n",
       "      <th>Age 0_20</th>\n",
       "      <th>Age 21_30</th>\n",
       "      <th>Age 31</th>\n",
       "      <th>Gender_Male</th>\n",
       "      <th>Gender_Female</th>\n",
       "      <th>Gender_Non_Binary</th>\n",
       "      <th>Work</th>\n",
       "      <th>Family</th>\n",
       "      <th>Social</th>\n",
       "      <th>Institution</th>\n",
       "      <th>...</th>\n",
       "      <th>Z_defended_themselves2</th>\n",
       "      <th>X_got_experienced_help2</th>\n",
       "      <th>Z_got_experienced_help2</th>\n",
       "      <th>X_asked_for_advice_from_their_community2</th>\n",
       "      <th>Z_asked_for_advice_from_their_community2</th>\n",
       "      <th>X_talked_to_someone_who_is_affected2</th>\n",
       "      <th>Z_talked_to_someone_who_is_affected2</th>\n",
       "      <th>X_got_someone_else_involved2</th>\n",
       "      <th>Z_got_someone_else_involved2</th>\n",
       "      <th>Positive_Negative_Outcome</th>\n",
       "    </tr>\n",
       "  </thead>\n",
       "  <tbody>\n",
       "    <tr>\n",
       "      <th>1</th>\n",
       "      <td>1</td>\n",
       "      <td>0</td>\n",
       "      <td>0</td>\n",
       "      <td>0</td>\n",
       "      <td>1</td>\n",
       "      <td>0</td>\n",
       "      <td>0</td>\n",
       "      <td>0</td>\n",
       "      <td>1</td>\n",
       "      <td>0</td>\n",
       "      <td>...</td>\n",
       "      <td>0</td>\n",
       "      <td>0</td>\n",
       "      <td>0</td>\n",
       "      <td>1</td>\n",
       "      <td>0</td>\n",
       "      <td>0</td>\n",
       "      <td>0</td>\n",
       "      <td>0</td>\n",
       "      <td>0</td>\n",
       "      <td>0</td>\n",
       "    </tr>\n",
       "    <tr>\n",
       "      <th>2</th>\n",
       "      <td>1</td>\n",
       "      <td>0</td>\n",
       "      <td>0</td>\n",
       "      <td>1</td>\n",
       "      <td>0</td>\n",
       "      <td>0</td>\n",
       "      <td>0</td>\n",
       "      <td>0</td>\n",
       "      <td>1</td>\n",
       "      <td>0</td>\n",
       "      <td>...</td>\n",
       "      <td>0</td>\n",
       "      <td>0</td>\n",
       "      <td>0</td>\n",
       "      <td>0</td>\n",
       "      <td>0</td>\n",
       "      <td>0</td>\n",
       "      <td>0</td>\n",
       "      <td>0</td>\n",
       "      <td>0</td>\n",
       "      <td>1</td>\n",
       "    </tr>\n",
       "    <tr>\n",
       "      <th>3</th>\n",
       "      <td>1</td>\n",
       "      <td>0</td>\n",
       "      <td>0</td>\n",
       "      <td>1</td>\n",
       "      <td>0</td>\n",
       "      <td>0</td>\n",
       "      <td>0</td>\n",
       "      <td>0</td>\n",
       "      <td>1</td>\n",
       "      <td>0</td>\n",
       "      <td>...</td>\n",
       "      <td>0</td>\n",
       "      <td>0</td>\n",
       "      <td>0</td>\n",
       "      <td>0</td>\n",
       "      <td>0</td>\n",
       "      <td>0</td>\n",
       "      <td>0</td>\n",
       "      <td>0</td>\n",
       "      <td>0</td>\n",
       "      <td>1</td>\n",
       "    </tr>\n",
       "    <tr>\n",
       "      <th>4</th>\n",
       "      <td>1</td>\n",
       "      <td>0</td>\n",
       "      <td>0</td>\n",
       "      <td>0</td>\n",
       "      <td>1</td>\n",
       "      <td>0</td>\n",
       "      <td>0</td>\n",
       "      <td>1</td>\n",
       "      <td>0</td>\n",
       "      <td>0</td>\n",
       "      <td>...</td>\n",
       "      <td>0</td>\n",
       "      <td>0</td>\n",
       "      <td>0</td>\n",
       "      <td>0</td>\n",
       "      <td>0</td>\n",
       "      <td>0</td>\n",
       "      <td>0</td>\n",
       "      <td>0</td>\n",
       "      <td>0</td>\n",
       "      <td>1</td>\n",
       "    </tr>\n",
       "    <tr>\n",
       "      <th>5</th>\n",
       "      <td>1</td>\n",
       "      <td>0</td>\n",
       "      <td>0</td>\n",
       "      <td>1</td>\n",
       "      <td>0</td>\n",
       "      <td>0</td>\n",
       "      <td>1</td>\n",
       "      <td>0</td>\n",
       "      <td>0</td>\n",
       "      <td>0</td>\n",
       "      <td>...</td>\n",
       "      <td>0</td>\n",
       "      <td>0</td>\n",
       "      <td>0</td>\n",
       "      <td>0</td>\n",
       "      <td>0</td>\n",
       "      <td>0</td>\n",
       "      <td>0</td>\n",
       "      <td>0</td>\n",
       "      <td>0</td>\n",
       "      <td>1</td>\n",
       "    </tr>\n",
       "  </tbody>\n",
       "</table>\n",
       "<p>5 rows × 305 columns</p>\n",
       "</div>"
      ],
      "text/plain": [
       "0 Age 0_20 Age 21_30 Age 31 Gender_Male Gender_Female Gender_Non_Binary Work  \\\n",
       "1        1         0      0           0             1                 0    0   \n",
       "2        1         0      0           1             0                 0    0   \n",
       "3        1         0      0           1             0                 0    0   \n",
       "4        1         0      0           0             1                 0    0   \n",
       "5        1         0      0           1             0                 0    1   \n",
       "\n",
       "0 Family Social Institution  ... Z_defended_themselves2  \\\n",
       "1      0      1           0  ...                      0   \n",
       "2      0      1           0  ...                      0   \n",
       "3      0      1           0  ...                      0   \n",
       "4      1      0           0  ...                      0   \n",
       "5      0      0           0  ...                      0   \n",
       "\n",
       "0 X_got_experienced_help2 Z_got_experienced_help2  \\\n",
       "1                       0                       0   \n",
       "2                       0                       0   \n",
       "3                       0                       0   \n",
       "4                       0                       0   \n",
       "5                       0                       0   \n",
       "\n",
       "0 X_asked_for_advice_from_their_community2  \\\n",
       "1                                        1   \n",
       "2                                        0   \n",
       "3                                        0   \n",
       "4                                        0   \n",
       "5                                        0   \n",
       "\n",
       "0 Z_asked_for_advice_from_their_community2  \\\n",
       "1                                        0   \n",
       "2                                        0   \n",
       "3                                        0   \n",
       "4                                        0   \n",
       "5                                        0   \n",
       "\n",
       "0 X_talked_to_someone_who_is_affected2 Z_talked_to_someone_who_is_affected2  \\\n",
       "1                                    0                                    0   \n",
       "2                                    0                                    0   \n",
       "3                                    0                                    0   \n",
       "4                                    0                                    0   \n",
       "5                                    0                                    0   \n",
       "\n",
       "0 X_got_someone_else_involved2 Z_got_someone_else_involved2  \\\n",
       "1                            0                            0   \n",
       "2                            0                            0   \n",
       "3                            0                            0   \n",
       "4                            0                            0   \n",
       "5                            0                            0   \n",
       "\n",
       "0 Positive_Negative_Outcome  \n",
       "1                         0  \n",
       "2                         1  \n",
       "3                         1  \n",
       "4                         1  \n",
       "5                         1  \n",
       "\n",
       "[5 rows x 305 columns]"
      ]
     },
     "metadata": {},
     "output_type": "display_data"
    }
   ],
   "source": [
    "# Re-arrange header\n",
    "new_header = Naralytic.iloc[0] #grab the first row for the header\n",
    "Naralytic = Naralytic[1:] #take the data less the header row\n",
    "Naralytic.columns = new_header #set the header row as the df header\n",
    "Naralytic.head()"
   ]
  },
  {
   "cell_type": "markdown",
   "id": "c77878a6",
   "metadata": {},
   "source": [
    "#### Checking for null values"
   ]
  },
  {
   "cell_type": "code",
   "execution_count": 5,
   "id": "7e116190",
   "metadata": {},
   "outputs": [
    {
     "data": {
      "text/plain": [
       "False"
      ]
     },
     "execution_count": 5,
     "metadata": {},
     "output_type": "execute_result"
    }
   ],
   "source": [
    "Naralytic.isnull().values.any()"
   ]
  },
  {
   "cell_type": "markdown",
   "id": "01cc97b2",
   "metadata": {},
   "source": [
    "#### Exploratory Data Analysis"
   ]
  },
  {
   "cell_type": "code",
   "execution_count": 6,
   "id": "42a034e8",
   "metadata": {},
   "outputs": [
    {
     "data": {
      "application/vnd.jupyter.widget-view+json": {
       "model_id": "1b7b0f0129ea471ea336ac65c7236266"
      },
      "text/html": [
       "<div>\n",
       "<style scoped>\n",
       "    .dataframe tbody tr th:only-of-type {\n",
       "        vertical-align: middle;\n",
       "    }\n",
       "\n",
       "    .dataframe tbody tr th {\n",
       "        vertical-align: top;\n",
       "    }\n",
       "\n",
       "    .dataframe thead th {\n",
       "        text-align: right;\n",
       "    }\n",
       "</style>\n",
       "<table border=\"1\" class=\"dataframe\">\n",
       "  <thead>\n",
       "    <tr style=\"text-align: right;\">\n",
       "      <th></th>\n",
       "      <th>count</th>\n",
       "      <th>unique</th>\n",
       "      <th>top</th>\n",
       "      <th>freq</th>\n",
       "    </tr>\n",
       "    <tr>\n",
       "      <th>0</th>\n",
       "      <th></th>\n",
       "      <th></th>\n",
       "      <th></th>\n",
       "      <th></th>\n",
       "    </tr>\n",
       "  </thead>\n",
       "  <tbody>\n",
       "    <tr>\n",
       "      <th>Age 0_20</th>\n",
       "      <td>3004</td>\n",
       "      <td>2</td>\n",
       "      <td>0</td>\n",
       "      <td>2363</td>\n",
       "    </tr>\n",
       "    <tr>\n",
       "      <th>Age 21_30</th>\n",
       "      <td>3004</td>\n",
       "      <td>2</td>\n",
       "      <td>1</td>\n",
       "      <td>1568</td>\n",
       "    </tr>\n",
       "    <tr>\n",
       "      <th>Age 31</th>\n",
       "      <td>3004</td>\n",
       "      <td>2</td>\n",
       "      <td>0</td>\n",
       "      <td>2209</td>\n",
       "    </tr>\n",
       "    <tr>\n",
       "      <th>Gender_Male</th>\n",
       "      <td>3004</td>\n",
       "      <td>2</td>\n",
       "      <td>1</td>\n",
       "      <td>1810</td>\n",
       "    </tr>\n",
       "    <tr>\n",
       "      <th>Gender_Female</th>\n",
       "      <td>3004</td>\n",
       "      <td>2</td>\n",
       "      <td>0</td>\n",
       "      <td>1822</td>\n",
       "    </tr>\n",
       "    <tr>\n",
       "      <th>...</th>\n",
       "      <td>...</td>\n",
       "      <td>...</td>\n",
       "      <td>...</td>\n",
       "      <td>...</td>\n",
       "    </tr>\n",
       "    <tr>\n",
       "      <th>X_talked_to_someone_who_is_affected2</th>\n",
       "      <td>3004</td>\n",
       "      <td>2</td>\n",
       "      <td>0</td>\n",
       "      <td>2513</td>\n",
       "    </tr>\n",
       "    <tr>\n",
       "      <th>Z_talked_to_someone_who_is_affected2</th>\n",
       "      <td>3004</td>\n",
       "      <td>2</td>\n",
       "      <td>0</td>\n",
       "      <td>2823</td>\n",
       "    </tr>\n",
       "    <tr>\n",
       "      <th>X_got_someone_else_involved2</th>\n",
       "      <td>3004</td>\n",
       "      <td>2</td>\n",
       "      <td>0</td>\n",
       "      <td>2690</td>\n",
       "    </tr>\n",
       "    <tr>\n",
       "      <th>Z_got_someone_else_involved2</th>\n",
       "      <td>3004</td>\n",
       "      <td>2</td>\n",
       "      <td>0</td>\n",
       "      <td>2853</td>\n",
       "    </tr>\n",
       "    <tr>\n",
       "      <th>Positive_Negative_Outcome</th>\n",
       "      <td>3004</td>\n",
       "      <td>2</td>\n",
       "      <td>0</td>\n",
       "      <td>1592</td>\n",
       "    </tr>\n",
       "  </tbody>\n",
       "</table>\n",
       "<p>305 rows × 4 columns</p>\n",
       "</div>"
      ],
      "text/plain": [
       "                                      count  unique  top  freq\n",
       "0                                                             \n",
       "Age 0_20                               3004       2    0  2363\n",
       "Age 21_30                              3004       2    1  1568\n",
       "Age 31                                 3004       2    0  2209\n",
       "Gender_Male                            3004       2    1  1810\n",
       "Gender_Female                          3004       2    0  1822\n",
       "...                                     ...     ...  ...   ...\n",
       "X_talked_to_someone_who_is_affected2   3004       2    0  2513\n",
       "Z_talked_to_someone_who_is_affected2   3004       2    0  2823\n",
       "X_got_someone_else_involved2           3004       2    0  2690\n",
       "Z_got_someone_else_involved2           3004       2    0  2853\n",
       "Positive_Negative_Outcome              3004       2    0  1592\n",
       "\n",
       "[305 rows x 4 columns]"
      ]
     },
     "metadata": {},
     "output_type": "display_data"
    }
   ],
   "source": [
    "# Summary statistics\n",
    "\n",
    "Naralytic.describe().T"
   ]
  },
  {
   "cell_type": "code",
   "execution_count": 7,
   "id": "e7bbdcb4",
   "metadata": {},
   "outputs": [
    {
     "data": {
      "text/plain": [
       "<seaborn.axisgrid.FacetGrid at 0x7fc44ffa06d0>"
      ]
     },
     "execution_count": 7,
     "metadata": {},
     "output_type": "execute_result"
    },
    {
     "data": {
      "image/png": "[encoded data removed]",
      "text/plain": [
       "<Figure size 720x360 with 2 Axes>"
      ]
     },
     "metadata": {
      "needs_background": "light"
     },
     "output_type": "display_data"
    }
   ],
   "source": [
    "# Barplot of female gender against positive outcome\n",
    "\n",
    "sns.factorplot(x='X_realized_something_about_the_situation2', col='Gender_Female', kind='count', data=Naralytic, palette = \"Reds_d\")"
   ]
  },
  {
   "cell_type": "code",
   "execution_count": 8,
   "id": "31da883c",
   "metadata": {},
   "outputs": [
    {
     "data": {
      "image/png": "[encoded data removed]",
      "text/plain": [
       "<Figure size 504x432 with 1 Axes>"
      ]
     },
     "metadata": {},
     "output_type": "display_data"
    }
   ],
   "source": [
    "# Positive and Negative outcome barplot\n",
    "sns.set(rc={'figure.figsize':(7,6)})\n",
    "sns.countplot(x='Positive_Negative_Outcome', data=Naralytic, palette = 'Greens_d');"
   ]
  },
  {
   "cell_type": "code",
   "execution_count": 9,
   "id": "3f848703",
   "metadata": {},
   "outputs": [
    {
     "data": {
      "text/plain": [
       "<AxesSubplot:xlabel='X_realized_something_about_the_situation2', ylabel='Density'>"
      ]
     },
     "execution_count": 9,
     "metadata": {},
     "output_type": "execute_result"
    },
    {
     "data": {
      "image/png": "[encoded data removed]",
      "text/plain": [
       "<Figure size 432x432 with 1 Axes>"
      ]
     },
     "metadata": {},
     "output_type": "display_data"
    }
   ],
   "source": [
    "# Density plot of 'Behavior' when X realized something about the situation\n",
    "\n",
    "sns.set(rc={'figure.figsize':(6,6)})\n",
    "sns.kdeplot(Naralytic['X_realized_something_about_the_situation2'],shade=True)"
   ]
  },
  {
   "cell_type": "markdown",
   "id": "b0a51a8b",
   "metadata": {},
   "source": [
    "#### PART 1: USING BEHAVIOR ELEMENT AND POSITIVE NEGATIVE OUTCOME"
   ]
  },
  {
   "cell_type": "markdown",
   "id": "1d7593fa",
   "metadata": {},
   "source": [
    "#### Creating Independent variables dataframe (main) and dependent variable (target)"
   ]
  },
  {
   "cell_type": "code",
   "execution_count": 10,
   "id": "1efda599",
   "metadata": {},
   "outputs": [
    {
     "data": {
      "application/vnd.jupyter.widget-view+json": {
       "model_id": "f99ec308d8e74872a6b7494c1b250601"
      },
      "text/html": [
       "<div>\n",
       "<style scoped>\n",
       "    .dataframe tbody tr th:only-of-type {\n",
       "        vertical-align: middle;\n",
       "    }\n",
       "\n",
       "    .dataframe tbody tr th {\n",
       "        vertical-align: top;\n",
       "    }\n",
       "\n",
       "    .dataframe thead th {\n",
       "        text-align: right;\n",
       "    }\n",
       "</style>\n",
       "<table border=\"1\" class=\"dataframe\">\n",
       "  <thead>\n",
       "    <tr style=\"text-align: right;\">\n",
       "      <th></th>\n",
       "      <th>Age 0_20</th>\n",
       "      <th>Age 21_30</th>\n",
       "      <th>Age 31</th>\n",
       "      <th>Gender_Male</th>\n",
       "      <th>Gender_Female</th>\n",
       "      <th>Gender_Non_Binary</th>\n",
       "      <th>Work</th>\n",
       "      <th>Family</th>\n",
       "      <th>Social</th>\n",
       "      <th>Institution</th>\n",
       "      <th>...</th>\n",
       "      <th>Security_Societal</th>\n",
       "      <th>Tradition</th>\n",
       "      <th>Conformity_Rules</th>\n",
       "      <th>Conformity_Interpersonal</th>\n",
       "      <th>Humility</th>\n",
       "      <th>Benevolence_Caring</th>\n",
       "      <th>Benevolence_Dependability</th>\n",
       "      <th>Universalism_Concern</th>\n",
       "      <th>Universalism_Nature</th>\n",
       "      <th>Universalism_Tolerance</th>\n",
       "    </tr>\n",
       "  </thead>\n",
       "  <tbody>\n",
       "    <tr>\n",
       "      <th>1</th>\n",
       "      <td>1</td>\n",
       "      <td>0</td>\n",
       "      <td>0</td>\n",
       "      <td>0</td>\n",
       "      <td>1</td>\n",
       "      <td>0</td>\n",
       "      <td>0</td>\n",
       "      <td>0</td>\n",
       "      <td>1</td>\n",
       "      <td>0</td>\n",
       "      <td>...</td>\n",
       "      <td>0</td>\n",
       "      <td>0</td>\n",
       "      <td>0</td>\n",
       "      <td>1</td>\n",
       "      <td>1</td>\n",
       "      <td>1</td>\n",
       "      <td>1</td>\n",
       "      <td>0</td>\n",
       "      <td>1</td>\n",
       "      <td>0</td>\n",
       "    </tr>\n",
       "    <tr>\n",
       "      <th>2</th>\n",
       "      <td>1</td>\n",
       "      <td>0</td>\n",
       "      <td>0</td>\n",
       "      <td>1</td>\n",
       "      <td>0</td>\n",
       "      <td>0</td>\n",
       "      <td>0</td>\n",
       "      <td>0</td>\n",
       "      <td>1</td>\n",
       "      <td>0</td>\n",
       "      <td>...</td>\n",
       "      <td>0</td>\n",
       "      <td>0</td>\n",
       "      <td>1</td>\n",
       "      <td>0</td>\n",
       "      <td>0</td>\n",
       "      <td>0</td>\n",
       "      <td>0</td>\n",
       "      <td>0</td>\n",
       "      <td>0</td>\n",
       "      <td>0</td>\n",
       "    </tr>\n",
       "    <tr>\n",
       "      <th>3</th>\n",
       "      <td>1</td>\n",
       "      <td>0</td>\n",
       "      <td>0</td>\n",
       "      <td>1</td>\n",
       "      <td>0</td>\n",
       "      <td>0</td>\n",
       "      <td>0</td>\n",
       "      <td>0</td>\n",
       "      <td>1</td>\n",
       "      <td>0</td>\n",
       "      <td>...</td>\n",
       "      <td>0</td>\n",
       "      <td>0</td>\n",
       "      <td>0</td>\n",
       "      <td>0</td>\n",
       "      <td>0</td>\n",
       "      <td>0</td>\n",
       "      <td>0</td>\n",
       "      <td>0</td>\n",
       "      <td>0</td>\n",
       "      <td>0</td>\n",
       "    </tr>\n",
       "    <tr>\n",
       "      <th>4</th>\n",
       "      <td>1</td>\n",
       "      <td>0</td>\n",
       "      <td>0</td>\n",
       "      <td>0</td>\n",
       "      <td>1</td>\n",
       "      <td>0</td>\n",
       "      <td>0</td>\n",
       "      <td>1</td>\n",
       "      <td>0</td>\n",
       "      <td>0</td>\n",
       "      <td>...</td>\n",
       "      <td>0</td>\n",
       "      <td>0</td>\n",
       "      <td>0</td>\n",
       "      <td>0</td>\n",
       "      <td>0</td>\n",
       "      <td>1</td>\n",
       "      <td>0</td>\n",
       "      <td>0</td>\n",
       "      <td>0</td>\n",
       "      <td>0</td>\n",
       "    </tr>\n",
       "    <tr>\n",
       "      <th>5</th>\n",
       "      <td>1</td>\n",
       "      <td>0</td>\n",
       "      <td>0</td>\n",
       "      <td>1</td>\n",
       "      <td>0</td>\n",
       "      <td>0</td>\n",
       "      <td>1</td>\n",
       "      <td>0</td>\n",
       "      <td>0</td>\n",
       "      <td>0</td>\n",
       "      <td>...</td>\n",
       "      <td>0</td>\n",
       "      <td>0</td>\n",
       "      <td>0</td>\n",
       "      <td>0</td>\n",
       "      <td>0</td>\n",
       "      <td>0</td>\n",
       "      <td>1</td>\n",
       "      <td>0</td>\n",
       "      <td>0</td>\n",
       "      <td>0</td>\n",
       "    </tr>\n",
       "  </tbody>\n",
       "</table>\n",
       "<p>5 rows × 207 columns</p>\n",
       "</div>"
      ],
      "text/plain": [
       "0 Age 0_20 Age 21_30 Age 31 Gender_Male Gender_Female Gender_Non_Binary Work  \\\n",
       "1        1         0      0           0             1                 0    0   \n",
       "2        1         0      0           1             0                 0    0   \n",
       "3        1         0      0           1             0                 0    0   \n",
       "4        1         0      0           0             1                 0    0   \n",
       "5        1         0      0           1             0                 0    1   \n",
       "\n",
       "0 Family Social Institution  ... Security_Societal Tradition Conformity_Rules  \\\n",
       "1      0      1           0  ...                 0         0                0   \n",
       "2      0      1           0  ...                 0         0                1   \n",
       "3      0      1           0  ...                 0         0                0   \n",
       "4      1      0           0  ...                 0         0                0   \n",
       "5      0      0           0  ...                 0         0                0   \n",
       "\n",
       "0 Conformity_Interpersonal Humility Benevolence_Caring  \\\n",
       "1                        1        1                  1   \n",
       "2                        0        0                  0   \n",
       "3                        0        0                  0   \n",
       "4                        0        0                  1   \n",
       "5                        0        0                  0   \n",
       "\n",
       "0 Benevolence_Dependability Universalism_Concern Universalism_Nature  \\\n",
       "1                         1                    0                   1   \n",
       "2                         0                    0                   0   \n",
       "3                         0                    0                   0   \n",
       "4                         0                    0                   0   \n",
       "5                         1                    0                   0   \n",
       "\n",
       "0 Universalism_Tolerance  \n",
       "1                      0  \n",
       "2                      0  \n",
       "3                      0  \n",
       "4                      0  \n",
       "5                      0  \n",
       "\n",
       "[5 rows x 207 columns]"
      ]
     },
     "metadata": {},
     "output_type": "display_data"
    }
   ],
   "source": [
    "# Probability of behavior - dependent and independent\n",
    "\n",
    "main = Naralytic.drop(Naralytic.loc[:,'X_realized_something_about_the_situation2':'Positive_Negative_Outcome'].columns, axis = 1)\n",
    "target = Naralytic.loc[:,'X_realized_something_about_the_situation2':'Positive_Negative_Outcome'].astype('string')\n",
    "\n",
    "main.head()"
   ]
  },
  {
   "cell_type": "code",
   "execution_count": 11,
   "id": "c1b0d51b",
   "metadata": {},
   "outputs": [
    {
     "data": {
      "application/vnd.jupyter.widget-view+json": {
       "model_id": "c17cb256cfc54e23b8393800b8a5cec1"
      },
      "text/html": [
       "<div>\n",
       "<style scoped>\n",
       "    .dataframe tbody tr th:only-of-type {\n",
       "        vertical-align: middle;\n",
       "    }\n",
       "\n",
       "    .dataframe tbody tr th {\n",
       "        vertical-align: top;\n",
       "    }\n",
       "\n",
       "    .dataframe thead th {\n",
       "        text-align: right;\n",
       "    }\n",
       "</style>\n",
       "<table border=\"1\" class=\"dataframe\">\n",
       "  <thead>\n",
       "    <tr style=\"text-align: right;\">\n",
       "      <th></th>\n",
       "      <th>X_realized_something_about_the_situation2</th>\n",
       "      <th>Z_realized_something_about_the_situation2</th>\n",
       "      <th>X_figured_out_what_to_do2</th>\n",
       "      <th>Z_figured_out_what_to_do2</th>\n",
       "      <th>X_is_rationalizing_the_situation2</th>\n",
       "      <th>Z_is_rationalizing_the_situation2</th>\n",
       "      <th>X_has_not_figured_it_out_yet2</th>\n",
       "      <th>Z_has_not_figured_it_out_yet2</th>\n",
       "      <th>X_began_or_returned_to_a_relationship_with_Z2</th>\n",
       "      <th>X_began_or_returned_to_a_relationship_with_someone_else2</th>\n",
       "      <th>...</th>\n",
       "      <th>Z_defended_themselves2</th>\n",
       "      <th>X_got_experienced_help2</th>\n",
       "      <th>Z_got_experienced_help2</th>\n",
       "      <th>X_asked_for_advice_from_their_community2</th>\n",
       "      <th>Z_asked_for_advice_from_their_community2</th>\n",
       "      <th>X_talked_to_someone_who_is_affected2</th>\n",
       "      <th>Z_talked_to_someone_who_is_affected2</th>\n",
       "      <th>X_got_someone_else_involved2</th>\n",
       "      <th>Z_got_someone_else_involved2</th>\n",
       "      <th>Positive_Negative_Outcome</th>\n",
       "    </tr>\n",
       "  </thead>\n",
       "  <tbody>\n",
       "    <tr>\n",
       "      <th>1</th>\n",
       "      <td>0</td>\n",
       "      <td>0</td>\n",
       "      <td>0</td>\n",
       "      <td>0</td>\n",
       "      <td>0</td>\n",
       "      <td>0</td>\n",
       "      <td>1</td>\n",
       "      <td>0</td>\n",
       "      <td>0</td>\n",
       "      <td>0</td>\n",
       "      <td>...</td>\n",
       "      <td>0</td>\n",
       "      <td>0</td>\n",
       "      <td>0</td>\n",
       "      <td>1</td>\n",
       "      <td>0</td>\n",
       "      <td>0</td>\n",
       "      <td>0</td>\n",
       "      <td>0</td>\n",
       "      <td>0</td>\n",
       "      <td>0</td>\n",
       "    </tr>\n",
       "    <tr>\n",
       "      <th>2</th>\n",
       "      <td>0</td>\n",
       "      <td>0</td>\n",
       "      <td>0</td>\n",
       "      <td>0</td>\n",
       "      <td>0</td>\n",
       "      <td>0</td>\n",
       "      <td>1</td>\n",
       "      <td>0</td>\n",
       "      <td>0</td>\n",
       "      <td>0</td>\n",
       "      <td>...</td>\n",
       "      <td>0</td>\n",
       "      <td>0</td>\n",
       "      <td>0</td>\n",
       "      <td>0</td>\n",
       "      <td>0</td>\n",
       "      <td>0</td>\n",
       "      <td>0</td>\n",
       "      <td>0</td>\n",
       "      <td>0</td>\n",
       "      <td>1</td>\n",
       "    </tr>\n",
       "    <tr>\n",
       "      <th>3</th>\n",
       "      <td>0</td>\n",
       "      <td>0</td>\n",
       "      <td>0</td>\n",
       "      <td>0</td>\n",
       "      <td>0</td>\n",
       "      <td>0</td>\n",
       "      <td>0</td>\n",
       "      <td>0</td>\n",
       "      <td>0</td>\n",
       "      <td>0</td>\n",
       "      <td>...</td>\n",
       "      <td>0</td>\n",
       "      <td>0</td>\n",
       "      <td>0</td>\n",
       "      <td>0</td>\n",
       "      <td>0</td>\n",
       "      <td>0</td>\n",
       "      <td>0</td>\n",
       "      <td>0</td>\n",
       "      <td>0</td>\n",
       "      <td>1</td>\n",
       "    </tr>\n",
       "    <tr>\n",
       "      <th>4</th>\n",
       "      <td>0</td>\n",
       "      <td>0</td>\n",
       "      <td>1</td>\n",
       "      <td>0</td>\n",
       "      <td>0</td>\n",
       "      <td>0</td>\n",
       "      <td>1</td>\n",
       "      <td>0</td>\n",
       "      <td>0</td>\n",
       "      <td>0</td>\n",
       "      <td>...</td>\n",
       "      <td>0</td>\n",
       "      <td>0</td>\n",
       "      <td>0</td>\n",
       "      <td>0</td>\n",
       "      <td>0</td>\n",
       "      <td>0</td>\n",
       "      <td>0</td>\n",
       "      <td>0</td>\n",
       "      <td>0</td>\n",
       "      <td>1</td>\n",
       "    </tr>\n",
       "    <tr>\n",
       "      <th>5</th>\n",
       "      <td>0</td>\n",
       "      <td>0</td>\n",
       "      <td>0</td>\n",
       "      <td>0</td>\n",
       "      <td>0</td>\n",
       "      <td>0</td>\n",
       "      <td>0</td>\n",
       "      <td>0</td>\n",
       "      <td>0</td>\n",
       "      <td>0</td>\n",
       "      <td>...</td>\n",
       "      <td>0</td>\n",
       "      <td>0</td>\n",
       "      <td>0</td>\n",
       "      <td>0</td>\n",
       "      <td>0</td>\n",
       "      <td>0</td>\n",
       "      <td>0</td>\n",
       "      <td>0</td>\n",
       "      <td>0</td>\n",
       "      <td>1</td>\n",
       "    </tr>\n",
       "  </tbody>\n",
       "</table>\n",
       "<p>5 rows × 98 columns</p>\n",
       "</div>"
      ],
      "text/plain": [
       "0 X_realized_something_about_the_situation2  \\\n",
       "1                                         0   \n",
       "2                                         0   \n",
       "3                                         0   \n",
       "4                                         0   \n",
       "5                                         0   \n",
       "\n",
       "0 Z_realized_something_about_the_situation2 X_figured_out_what_to_do2  \\\n",
       "1                                         0                         0   \n",
       "2                                         0                         0   \n",
       "3                                         0                         0   \n",
       "4                                         0                         1   \n",
       "5                                         0                         0   \n",
       "\n",
       "0 Z_figured_out_what_to_do2 X_is_rationalizing_the_situation2  \\\n",
       "1                         0                                 0   \n",
       "2                         0                                 0   \n",
       "3                         0                                 0   \n",
       "4                         0                                 0   \n",
       "5                         0                                 0   \n",
       "\n",
       "0 Z_is_rationalizing_the_situation2 X_has_not_figured_it_out_yet2  \\\n",
       "1                                 0                             1   \n",
       "2                                 0                             1   \n",
       "3                                 0                             0   \n",
       "4                                 0                             1   \n",
       "5                                 0                             0   \n",
       "\n",
       "0 Z_has_not_figured_it_out_yet2 X_began_or_returned_to_a_relationship_with_Z2  \\\n",
       "1                             0                                             0   \n",
       "2                             0                                             0   \n",
       "3                             0                                             0   \n",
       "4                             0                                             0   \n",
       "5                             0                                             0   \n",
       "\n",
       "0 X_began_or_returned_to_a_relationship_with_someone_else2  ...  \\\n",
       "1                                                  0        ...   \n",
       "2                                                  0        ...   \n",
       "3                                                  0        ...   \n",
       "4                                                  0        ...   \n",
       "5                                                  0        ...   \n",
       "\n",
       "0 Z_defended_themselves2 X_got_experienced_help2 Z_got_experienced_help2  \\\n",
       "1                      0                       0                       0   \n",
       "2                      0                       0                       0   \n",
       "3                      0                       0                       0   \n",
       "4                      0                       0                       0   \n",
       "5                      0                       0                       0   \n",
       "\n",
       "0 X_asked_for_advice_from_their_community2  \\\n",
       "1                                        1   \n",
       "2                                        0   \n",
       "3                                        0   \n",
       "4                                        0   \n",
       "5                                        0   \n",
       "\n",
       "0 Z_asked_for_advice_from_their_community2  \\\n",
       "1                                        0   \n",
       "2                                        0   \n",
       "3                                        0   \n",
       "4                                        0   \n",
       "5                                        0   \n",
       "\n",
       "0 X_talked_to_someone_who_is_affected2 Z_talked_to_someone_who_is_affected2  \\\n",
       "1                                    0                                    0   \n",
       "2                                    0                                    0   \n",
       "3                                    0                                    0   \n",
       "4                                    0                                    0   \n",
       "5                                    0                                    0   \n",
       "\n",
       "0 X_got_someone_else_involved2 Z_got_someone_else_involved2  \\\n",
       "1                            0                            0   \n",
       "2                            0                            0   \n",
       "3                            0                            0   \n",
       "4                            0                            0   \n",
       "5                            0                            0   \n",
       "\n",
       "0 Positive_Negative_Outcome  \n",
       "1                         0  \n",
       "2                         1  \n",
       "3                         1  \n",
       "4                         1  \n",
       "5                         1  \n",
       "\n",
       "[5 rows x 98 columns]"
      ]
     },
     "metadata": {},
     "output_type": "display_data"
    }
   ],
   "source": [
    "target.head()"
   ]
  },
  {
   "cell_type": "markdown",
   "id": "a3ff5fe8",
   "metadata": {},
   "source": [
    "#### RANDOM FOREST MODEL: Behavioral Element"
   ]
  },
  {
   "cell_type": "code",
   "execution_count": 12,
   "id": "3c4ea420",
   "metadata": {},
   "outputs": [],
   "source": [
    "# libraries for model and split data\n",
    "\n",
    "from sklearn.ensemble import RandomForestClassifier\n",
    "from sklearn.tree import DecisionTreeClassifier\n",
    "import sklearn.svm as svm\n",
    "from sklearn.naive_bayes import GaussianNB\n",
    "from sklearn import metrics\n",
    "from sklearn.model_selection import train_test_split\n",
    "from sklearn.metrics import classification_report, confusion_matrix\n",
    "from xgboost import XGBClassifier\n",
    "# Dataset split\n",
    "main_train, main_test, target_train, target_test = train_test_split(main, target, test_size=0.20)"
   ]
  },
  {
   "cell_type": "code",
   "execution_count": 13,
   "id": "6b16254d",
   "metadata": {},
   "outputs": [
    {
     "name": "stdout",
     "output_type": "stream",
     "text": [
      "Training data for X: (2403, 207)\n",
      "Testing data for Y: (601, 98)\n"
     ]
    }
   ],
   "source": [
    "# shape of train_test split\n",
    "\n",
    "print('Training data for X:', main_train.shape)\n",
    "print('Testing data for Y:', target_test.shape)"
   ]
  },
  {
   "cell_type": "code",
   "execution_count": 14,
   "id": "881a7551",
   "metadata": {},
   "outputs": [
    {
     "data": {
      "text/plain": [
       "MultiOutputClassifier(estimator=RandomForestClassifier(max_depth=5,\n",
       "                                                       random_state=0))"
      ]
     },
     "execution_count": 14,
     "metadata": {},
     "output_type": "execute_result"
    }
   ],
   "source": [
    "# Build model\n",
    "forest = RandomForestClassifier(max_depth=5, random_state=0)\n",
    "\n",
    "# Train the model on training data\n",
    "rf_model = MultiOutputClassifier(forest)\n",
    "\n",
    "rf_model.fit(main_train, target_train)"
   ]
  },
  {
   "cell_type": "code",
   "execution_count": 15,
   "id": "ef6a7f95",
   "metadata": {},
   "outputs": [],
   "source": [
    "# Testing the data\n",
    "rf_predict = rf_model.predict(main_test)\n"
   ]
  },
  {
   "cell_type": "code",
   "execution_count": 16,
   "id": "9ea4c205",
   "metadata": {},
   "outputs": [
    {
     "name": "stdout",
     "output_type": "stream",
     "text": [
      "              precision    recall  f1-score   support\n",
      "\n",
      "           0       0.67      0.97      0.79       386\n",
      "           1       0.74      0.13      0.23       215\n",
      "\n",
      "    accuracy                           0.67       601\n",
      "   macro avg       0.71      0.55      0.51       601\n",
      "weighted avg       0.70      0.67      0.59       601\n",
      "\n",
      "              precision    recall  f1-score   support\n",
      "\n",
      "           0       0.92      1.00      0.96       555\n",
      "           1       0.00      0.00      0.00        46\n",
      "\n",
      "    accuracy                           0.92       601\n",
      "   macro avg       0.46      0.50      0.48       601\n",
      "weighted avg       0.85      0.92      0.89       601\n",
      "\n"
     ]
    }
   ],
   "source": [
    "# Printing classification report for first column\n",
    "print(classification_report(target_test.iloc[:,0], rf_predict[:,0]))\n",
    "\n",
    "\n",
    "#Print classification report for the second columns in target data\n",
    "print(classification_report(target_test.iloc[:,1], rf_predict[:,1]))"
   ]
  },
  {
   "cell_type": "code",
   "execution_count": 17,
   "id": "19e06e89",
   "metadata": {},
   "outputs": [
    {
     "data": {
      "text/plain": [
       "Text(0.5, 384.16, 'Predicted')"
      ]
     },
     "execution_count": 17,
     "metadata": {},
     "output_type": "execute_result"
    },
    {
     "data": {
      "image/png": "[encoded data removed]",
      "text/plain": [
       "<Figure size 432x432 with 2 Axes>"
      ]
     },
     "metadata": {},
     "output_type": "display_data"
    }
   ],
   "source": [
    "# confusion matrix\n",
    "random_forest_cf = confusion_matrix(target_test.iloc[:,0], rf_predict[:,0])\n",
    "\n",
    "# name of classes\n",
    "class_names=[0,1]\n",
    "fig, ax =plt.subplots()\n",
    "tick_marks = np.arange(len(class_names))\n",
    "plt.xticks(tick_marks, class_names)\n",
    "plt.yticks(tick_marks, class_names)\n",
    "\n",
    "#create heatmap for confusion matrix\n",
    "sns.heatmap(pd.DataFrame(random_forest_cf), annot=True, cmap='Oranges', fmt='g')\n",
    "ax.xaxis.set_label_position('top')\n",
    "plt.tight_layout()\n",
    "plt.title(\"Random forest confusion matrix for 'X realized something about the situation2'\", y=1.1)\n",
    "plt.ylabel('Actual')\n",
    "plt.xlabel('Predicted')"
   ]
  },
  {
   "cell_type": "code",
   "execution_count": 18,
   "id": "d915ea2f",
   "metadata": {},
   "outputs": [
    {
     "data": {
      "text/plain": [
       "Text(0.5, 384.16, 'Predicted')"
      ]
     },
     "execution_count": 18,
     "metadata": {},
     "output_type": "execute_result"
    },
    {
     "data": {
      "image/png": "[encoded data removed]",
      "text/plain": [
       "<Figure size 432x432 with 2 Axes>"
      ]
     },
     "metadata": {},
     "output_type": "display_data"
    }
   ],
   "source": [
    "# confusion matrix\n",
    "random_forest_cf = confusion_matrix(target_test.iloc[:,1], rf_predict[:,1])\n",
    "\n",
    "# name of classes\n",
    "class_names=[0,1]\n",
    "fig, ax =plt.subplots()\n",
    "tick_marks = np.arange(len(class_names))\n",
    "plt.xticks(tick_marks, class_names)\n",
    "plt.yticks(tick_marks, class_names)\n",
    "\n",
    "#create heatmap for confusion matrix\n",
    "sns.heatmap(pd.DataFrame(random_forest_cf), annot=True, cmap='Oranges_r', fmt='g')\n",
    "ax.xaxis.set_label_position('top')\n",
    "plt.tight_layout()\n",
    "plt.title(\"Random forest confusion matrix for 'Z realized something about the situation2'\", y=1.1)\n",
    "plt.ylabel('Actual')\n",
    "plt.xlabel('Predicted')"
   ]
  },
  {
   "cell_type": "markdown",
   "id": "5830db2c",
   "metadata": {},
   "source": [
    "#### Hamming loss, Jaccard and Roc_Auc score for \"X realized something about the situation2\" for random forest"
   ]
  },
  {
   "cell_type": "code",
   "execution_count": 19,
   "id": "e8ba42ad",
   "metadata": {},
   "outputs": [],
   "source": [
    "#Import package for metrics\n",
    "\n",
    "from sklearn.metrics import hamming_loss\n",
    "from sklearn.metrics import jaccard_score\n",
    "from sklearn.metrics import roc_auc_score"
   ]
  },
  {
   "cell_type": "code",
   "execution_count": 20,
   "id": "e13b34ff",
   "metadata": {},
   "outputs": [
    {
     "name": "stdout",
     "output_type": "stream",
     "text": [
      "Hamming loss for X_realized_something_about_the_situaion2:  0.326\n",
      "Jaccard score for X_realized_something_about_the_situaion2:  0.468\n",
      "ROC_AUC score for X_realized_something_about_the_situaion2:  0.554\n"
     ]
    }
   ],
   "source": [
    "# Print score of evaluation metrics\n",
    "\n",
    "hamming = hamming_loss(target_test.iloc[:,0],rf_predict[:,0])\n",
    "jaccard = jaccard_score(target_test.iloc[:,0],rf_predict[:,0], average='weighted')\n",
    "roc = roc_auc_score(target_test.iloc[:,0],rf_predict[:,0])\n",
    "\n",
    "\n",
    "print('Hamming loss for X_realized_something_about_the_situaion2: ', round(hamming, 3))\n",
    "print('Jaccard score for X_realized_something_about_the_situaion2: ', round(jaccard, 3))\n",
    "print('ROC_AUC score for X_realized_something_about_the_situaion2: ', round(roc, 3))"
   ]
  },
  {
   "cell_type": "markdown",
   "id": "ec4fe70e",
   "metadata": {},
   "source": [
    "#### Hamming loss, Jaccard and Roc_Auc score for \"Z realized something about the situation2\" for random forest"
   ]
  },
  {
   "cell_type": "code",
   "execution_count": 21,
   "id": "278d0678",
   "metadata": {},
   "outputs": [
    {
     "name": "stdout",
     "output_type": "stream",
     "text": [
      "Hamming loss for Z_realized_something_about_the_situaion2:  0.077\n",
      "Jaccard score for Z_realized_something_about_the_situaion2:  0.853\n",
      "ROC_AUC score for Z_realized_something_about_the_situaion2:  0.5\n"
     ]
    }
   ],
   "source": [
    "# Print score of evaluation metrics\n",
    "\n",
    "hamming_1 = hamming_loss(target_test.iloc[:,1],rf_predict[:,1])\n",
    "jaccard_1 = jaccard_score(target_test.iloc[:,1],rf_predict[:,1], average='weighted')\n",
    "roc_1 = roc_auc_score(target_test.iloc[:,1],rf_predict[:,1])\n",
    "\n",
    "\n",
    "print('Hamming loss for Z_realized_something_about_the_situaion2: ', round(hamming_1, 3))\n",
    "print('Jaccard score for Z_realized_something_about_the_situaion2: ', round(jaccard_1, 3))\n",
    "print('ROC_AUC score for Z_realized_something_about_the_situaion2: ', round(roc_1, 3))"
   ]
  },
  {
   "cell_type": "markdown",
   "id": "60e0df5c",
   "metadata": {},
   "source": [
    "#### SUPPORT VECTOR MACHINE (SVM) MODEL"
   ]
  },
  {
   "cell_type": "code",
   "execution_count": 22,
   "id": "1ebe8098",
   "metadata": {},
   "outputs": [],
   "source": [
    "#Create a svm Classifier\n",
    "support_vector = svm.SVC(kernel='linear', random_state = 42) # Linear Kernel\n",
    "\n",
    "# Build multioutput classification\n",
    "sv_model = MultiOutputClassifier(support_vector)"
   ]
  },
  {
   "cell_type": "code",
   "execution_count": 23,
   "id": "0565cbe9",
   "metadata": {},
   "outputs": [
    {
     "data": {
      "text/plain": [
       "MultiOutputClassifier(estimator=SVC(kernel='linear', random_state=42))"
      ]
     },
     "execution_count": 23,
     "metadata": {},
     "output_type": "execute_result"
    }
   ],
   "source": [
    "#Train the model using the training sets\n",
    "sv_model.fit(main_train, target_train)"
   ]
  },
  {
   "cell_type": "code",
   "execution_count": 24,
   "id": "ad178d59",
   "metadata": {},
   "outputs": [],
   "source": [
    "#Predict the response for test dataset\n",
    "svm_pred = sv_model.predict(main_test)"
   ]
  },
  {
   "cell_type": "code",
   "execution_count": 25,
   "id": "29a53ce4",
   "metadata": {},
   "outputs": [
    {
     "name": "stdout",
     "output_type": "stream",
     "text": [
      "              precision    recall  f1-score   support\n",
      "\n",
      "           0       0.71      0.79      0.75       386\n",
      "           1       0.54      0.43      0.48       215\n",
      "\n",
      "    accuracy                           0.66       601\n",
      "   macro avg       0.63      0.61      0.62       601\n",
      "weighted avg       0.65      0.66      0.65       601\n",
      "\n",
      "              precision    recall  f1-score   support\n",
      "\n",
      "           0       0.93      0.98      0.96       555\n",
      "           1       0.39      0.15      0.22        46\n",
      "\n",
      "    accuracy                           0.92       601\n",
      "   macro avg       0.66      0.57      0.59       601\n",
      "weighted avg       0.89      0.92      0.90       601\n",
      "\n"
     ]
    }
   ],
   "source": [
    "# Printing classification report for first column\n",
    "print(classification_report(target_test.iloc[:,0], svm_pred[:,0]))\n",
    "\n",
    "# Printing classification report for second column\n",
    "print(classification_report(target_test.iloc[:,1], svm_pred[:,1]))"
   ]
  },
  {
   "cell_type": "code",
   "execution_count": 26,
   "id": "aa002ad5",
   "metadata": {},
   "outputs": [
    {
     "data": {
      "text/plain": [
       "Text(0.5, 384.16, 'Predicted')"
      ]
     },
     "execution_count": 26,
     "metadata": {},
     "output_type": "execute_result"
    },
    {
     "data": {
      "image/png": "[encoded data removed]",
      "text/plain": [
       "<Figure size 432x432 with 2 Axes>"
      ]
     },
     "metadata": {},
     "output_type": "display_data"
    }
   ],
   "source": [
    "# confusion matrix\n",
    "svm_cf = confusion_matrix(target_test.iloc[:,0], svm_pred[:,0])\n",
    "\n",
    "# name of classes\n",
    "class_names=[0,1]\n",
    "fig, ax =plt.subplots()\n",
    "tick_marks = np.arange(len(class_names))\n",
    "plt.xticks(tick_marks, class_names)\n",
    "plt.yticks(tick_marks, class_names)\n",
    "\n",
    "#create heatmap for confusion matrix\n",
    "sns.heatmap(pd.DataFrame(svm_cf), annot=True, cmap='YlOrRd', fmt='g')\n",
    "ax.xaxis.set_label_position('top')\n",
    "plt.tight_layout()\n",
    "plt.title(\"SVM Confusion matrix for 'X realized something about the situation2'\", y=1.1)\n",
    "plt.ylabel('Actual')\n",
    "plt.xlabel('Predicted')"
   ]
  },
  {
   "cell_type": "code",
   "execution_count": 27,
   "id": "76433c0d",
   "metadata": {},
   "outputs": [
    {
     "data": {
      "text/plain": [
       "Text(0.5, 384.16, 'Predicted')"
      ]
     },
     "execution_count": 27,
     "metadata": {},
     "output_type": "execute_result"
    },
    {
     "data": {
      "image/png": "[encoded data removed]",
      "text/plain": [
       "<Figure size 432x432 with 2 Axes>"
      ]
     },
     "metadata": {},
     "output_type": "display_data"
    }
   ],
   "source": [
    "# confusion matrix\n",
    "svm_cf = confusion_matrix(target_test.iloc[:,1], svm_pred[:,1])\n",
    "\n",
    "# name of classes\n",
    "class_names=[0,1]\n",
    "fig, ax =plt.subplots()\n",
    "tick_marks = np.arange(len(class_names))\n",
    "plt.xticks(tick_marks, class_names)\n",
    "plt.yticks(tick_marks, class_names)\n",
    "\n",
    "#create heatmap for confusion matrix\n",
    "sns.heatmap(pd.DataFrame(svm_cf), annot=True, cmap='YlOrRd_r', fmt='g')\n",
    "ax.xaxis.set_label_position('top')\n",
    "plt.tight_layout()\n",
    "plt.title(\"SVM Confusion matrix for 'Z realized something about the situation2'\", y=1.1)\n",
    "plt.ylabel('Actual')\n",
    "plt.xlabel('Predicted')"
   ]
  },
  {
   "cell_type": "markdown",
   "id": "93507ed9",
   "metadata": {},
   "source": [
    "#### Hamming loss, Jaccard and Roc_Auc score for \"X realized something about the situation2\" for SVM"
   ]
  },
  {
   "cell_type": "code",
   "execution_count": 28,
   "id": "7c348926",
   "metadata": {},
   "outputs": [
    {
     "name": "stdout",
     "output_type": "stream",
     "text": [
      "Hamming loss for X_realized_something_about_the_situaion2:  0.336\n",
      "Jaccard score for X_realized_something_about_the_situaion2:  0.5\n",
      "ROC_AUC score for X_realized_something_about_the_situaion2:  0.613\n"
     ]
    }
   ],
   "source": [
    "# Print evalution metric\n",
    "\n",
    "svm_hamming = hamming_loss(target_test.iloc[:,0],svm_pred[:,0])\n",
    "svm_jaccard = jaccard_score(target_test.iloc[:,0],svm_pred[:,0], average='weighted')\n",
    "svm_roc = roc_auc_score(target_test.iloc[:,0],svm_pred[:,0])\n",
    "\n",
    "\n",
    "print('Hamming loss for X_realized_something_about_the_situaion2: ', round(svm_hamming, 3))\n",
    "print('Jaccard score for X_realized_something_about_the_situaion2: ', round(svm_jaccard, 3))\n",
    "print('ROC_AUC score for X_realized_something_about_the_situaion2: ', round(svm_roc, 3))"
   ]
  },
  {
   "cell_type": "markdown",
   "id": "620d3ad7",
   "metadata": {},
   "source": [
    "#### Hamming loss, Jaccard and Roc_Auc score for \"Z realized something about the situation2\" for SVM"
   ]
  },
  {
   "cell_type": "code",
   "execution_count": 29,
   "id": "7b7d19b1",
   "metadata": {},
   "outputs": [
    {
     "name": "stdout",
     "output_type": "stream",
     "text": [
      "Hamming loss for Z_realized_something_about_the_situaion2:  0.083\n",
      "Jaccard score for Z_realized_something_about_the_situaion2:  0.855\n",
      "ROC_AUC score for Z_realized_something_about_the_situaion2:  0.566\n"
     ]
    }
   ],
   "source": [
    "# Print evalution metrics\n",
    "\n",
    "svm_hamming1 = hamming_loss(target_test.iloc[:,1],svm_pred[:,1])\n",
    "svm_jaccard1 = jaccard_score(target_test.iloc[:,1],svm_pred[:,1], average='weighted')\n",
    "svm_roc1 = roc_auc_score(target_test.iloc[:,1],svm_pred[:,1])\n",
    "\n",
    "\n",
    "print('Hamming loss for Z_realized_something_about_the_situaion2: ', round(svm_hamming1, 3))\n",
    "print('Jaccard score for Z_realized_something_about_the_situaion2: ', round(svm_jaccard1, 3))\n",
    "print('ROC_AUC score for Z_realized_something_about_the_situaion2: ', round(svm_roc1, 3))"
   ]
  },
  {
   "cell_type": "markdown",
   "id": "2a1802c7",
   "metadata": {},
   "source": [
    "#### DECISION TREE"
   ]
  },
  {
   "cell_type": "code",
   "execution_count": 30,
   "id": "4d7c56a7",
   "metadata": {},
   "outputs": [],
   "source": [
    "from sklearn.tree import DecisionTreeClassifier\n",
    "\n",
    "# fitting decision tree model\n",
    "decision = DecisionTreeClassifier(criterion=\"gini\", random_state=42,max_depth=5, min_samples_split=5,min_samples_leaf=5)   \n",
    "\n",
    "# Build decision tree model in multioutput\n",
    "dt_model = MultiOutputClassifier(decision)\n"
   ]
  },
  {
   "cell_type": "code",
   "execution_count": 31,
   "id": "042a5b83",
   "metadata": {},
   "outputs": [
    {
     "data": {
      "text/plain": [
       "MultiOutputClassifier(estimator=DecisionTreeClassifier(max_depth=5,\n",
       "                                                       min_samples_leaf=5,\n",
       "                                                       min_samples_split=5,\n",
       "                                                       random_state=42))"
      ]
     },
     "execution_count": 31,
     "metadata": {},
     "output_type": "execute_result"
    }
   ],
   "source": [
    "# Fitting the model\n",
    "dt_model.fit(main_train,target_train)"
   ]
  },
  {
   "cell_type": "code",
   "execution_count": 32,
   "id": "9894e60d",
   "metadata": {},
   "outputs": [],
   "source": [
    "# predict using target variables\n",
    "dt_predict = dt_model.predict(main_test)"
   ]
  },
  {
   "cell_type": "code",
   "execution_count": 33,
   "id": "b2b76da3",
   "metadata": {},
   "outputs": [
    {
     "name": "stdout",
     "output_type": "stream",
     "text": [
      "              precision    recall  f1-score   support\n",
      "\n",
      "           0       0.69      0.80      0.74       386\n",
      "           1       0.51      0.37      0.43       215\n",
      "\n",
      "    accuracy                           0.65       601\n",
      "   macro avg       0.60      0.58      0.58       601\n",
      "weighted avg       0.63      0.65      0.63       601\n",
      "\n",
      "              precision    recall  f1-score   support\n",
      "\n",
      "           0       0.93      0.97      0.95       555\n",
      "           1       0.15      0.07      0.09        46\n",
      "\n",
      "    accuracy                           0.90       601\n",
      "   macro avg       0.54      0.52      0.52       601\n",
      "weighted avg       0.87      0.90      0.88       601\n",
      "\n"
     ]
    }
   ],
   "source": [
    "# Classification report for first column\n",
    "print(classification_report(target_test.iloc[:,0], dt_predict[:,0]))\n",
    "\n",
    "# Classification report for second column\n",
    "print(classification_report(target_test.iloc[:,1], dt_predict[:,1]))"
   ]
  },
  {
   "cell_type": "code",
   "execution_count": 34,
   "id": "0495017a",
   "metadata": {},
   "outputs": [
    {
     "data": {
      "text/plain": [
       "Text(0.5, 384.16, 'Predicted')"
      ]
     },
     "execution_count": 34,
     "metadata": {},
     "output_type": "execute_result"
    },
    {
     "data": {
      "image/png": "[encoded data removed]",
      "text/plain": [
       "<Figure size 432x432 with 2 Axes>"
      ]
     },
     "metadata": {},
     "output_type": "display_data"
    }
   ],
   "source": [
    "# confusion matrix\n",
    "decision_cf = confusion_matrix(target_test.iloc[:,0], dt_predict[:,0])\n",
    "\n",
    "# name of classes\n",
    "class_names=[0,1]\n",
    "fig, ax =plt.subplots()\n",
    "tick_marks = np.arange(len(class_names))\n",
    "plt.xticks(tick_marks, class_names)\n",
    "plt.yticks(tick_marks, class_names)\n",
    "\n",
    "#create heatmap for confusion matrix\n",
    "sns.heatmap(pd.DataFrame(decision_cf), annot=True, cmap='Blues', fmt='g')\n",
    "ax.xaxis.set_label_position('top')\n",
    "plt.tight_layout()\n",
    "plt.title(\"Decision Tree Confusion matrix 'X realized something about the situation2'\", y=1.1)\n",
    "plt.ylabel('Actual')\n",
    "plt.xlabel('Predicted')"
   ]
  },
  {
   "cell_type": "code",
   "execution_count": 35,
   "id": "88ac85ff",
   "metadata": {},
   "outputs": [
    {
     "data": {
      "text/plain": [
       "Text(0.5, 384.16, 'Predicted')"
      ]
     },
     "execution_count": 35,
     "metadata": {},
     "output_type": "execute_result"
    },
    {
     "data": {
      "image/png": "[encoded data removed]",
      "text/plain": [
       "<Figure size 432x432 with 2 Axes>"
      ]
     },
     "metadata": {},
     "output_type": "display_data"
    }
   ],
   "source": [
    "# confusion matrix\n",
    "decision_cf = confusion_matrix(target_test.iloc[:,1], dt_predict[:,1])\n",
    "\n",
    "# name of classes\n",
    "class_names=[0,1]\n",
    "fig, ax =plt.subplots()\n",
    "tick_marks = np.arange(len(class_names))\n",
    "plt.xticks(tick_marks, class_names)\n",
    "plt.yticks(tick_marks, class_names)\n",
    "\n",
    "#create heatmap for confusion matrix\n",
    "sns.heatmap(pd.DataFrame(decision_cf), annot=True, cmap='Blues_r', fmt='g')\n",
    "ax.xaxis.set_label_position('top')\n",
    "plt.tight_layout()\n",
    "plt.title(\"Decision Tree Confusion matrix 'Z realized something about the situation2'\", y=1.1)\n",
    "plt.ylabel('Actual')\n",
    "plt.xlabel('Predicted')"
   ]
  },
  {
   "cell_type": "markdown",
   "id": "ad066618",
   "metadata": {},
   "source": [
    "#### Hamming loss, Jaccard and Roc_Auc score for \"X realized something about the situation2\" for Decision tree"
   ]
  },
  {
   "cell_type": "code",
   "execution_count": 36,
   "id": "967e82eb",
   "metadata": {},
   "outputs": [
    {
     "name": "stdout",
     "output_type": "stream",
     "text": [
      "Hamming loss for X_realized_something_about_the_situaion2:  0.354\n",
      "Jaccard score for X_realized_something_about_the_situaion2:  0.477\n",
      "ROC_AUC score for X_realized_something_about_the_situaion2:  0.584\n"
     ]
    }
   ],
   "source": [
    "# Print evalution metric\n",
    "\n",
    "dt_hamming = hamming_loss(target_test.iloc[:,0],dt_predict[:,0])\n",
    "dt_jaccard = jaccard_score(target_test.iloc[:,0],dt_predict[:,0], average='weighted')\n",
    "dt_roc = roc_auc_score(target_test.iloc[:,0],dt_predict[:,0])\n",
    "\n",
    "\n",
    "print('Hamming loss for X_realized_something_about_the_situaion2: ', round(dt_hamming, 3))\n",
    "print('Jaccard score for X_realized_something_about_the_situaion2: ', round(dt_jaccard, 3))\n",
    "print('ROC_AUC score for X_realized_something_about_the_situaion2: ', round(dt_roc, 3))"
   ]
  },
  {
   "cell_type": "markdown",
   "id": "2b63da05",
   "metadata": {},
   "source": [
    "#### Hamming loss, Jaccard and Roc_Auc score for \"Z realized something about the situation2\" for Decision tree"
   ]
  },
  {
   "cell_type": "code",
   "execution_count": 37,
   "id": "21eee3fc",
   "metadata": {},
   "outputs": [
    {
     "name": "stdout",
     "output_type": "stream",
     "text": [
      "Hamming loss for X_realized_something_about_the_situaion2:  0.1\n",
      "Jaccard score for X_realized_something_about_the_situaion2:  0.834\n",
      "ROC_AUC score for X_realized_something_about_the_situaion2:  0.517\n"
     ]
    }
   ],
   "source": [
    "# Print evalution metric\n",
    "\n",
    "dt_hamming1 = hamming_loss(target_test.iloc[:,1],dt_predict[:,1])\n",
    "dt_jaccard1 = jaccard_score(target_test.iloc[:,1],dt_predict[:,1], average='weighted')\n",
    "dt_roc1 = roc_auc_score(target_test.iloc[:,1],dt_predict[:,1])\n",
    "\n",
    "\n",
    "print('Hamming loss for X_realized_something_about_the_situaion2: ', round(dt_hamming1, 3))\n",
    "print('Jaccard score for X_realized_something_about_the_situaion2: ', round(dt_jaccard1, 3))\n",
    "print('ROC_AUC score for X_realized_something_about_the_situaion2: ', round(dt_roc1, 3))"
   ]
  },
  {
   "cell_type": "markdown",
   "id": "8e974573",
   "metadata": {},
   "source": [
    "#### NAIVE BAYES MODEL"
   ]
  },
  {
   "cell_type": "code",
   "execution_count": 38,
   "id": "a9e7531b",
   "metadata": {},
   "outputs": [],
   "source": [
    "from sklearn.naive_bayes import GaussianNB\n",
    "\n",
    "# Fitting the model\n",
    "naive_bayes = GaussianNB()\n",
    "\n",
    "# Build naive bayes model in multioutput classifier\n",
    "nb_model = MultiOutputClassifier(naive_bayes)"
   ]
  },
  {
   "cell_type": "code",
   "execution_count": 39,
   "id": "673eddce",
   "metadata": {},
   "outputs": [
    {
     "data": {
      "text/plain": [
       "MultiOutputClassifier(estimator=GaussianNB())"
      ]
     },
     "execution_count": 39,
     "metadata": {},
     "output_type": "execute_result"
    }
   ],
   "source": [
    "# Fitting the model\n",
    "nb_model.fit(main_train, target_train)"
   ]
  },
  {
   "cell_type": "code",
   "execution_count": 40,
   "id": "a52befa2",
   "metadata": {},
   "outputs": [],
   "source": [
    "# Predict using test\n",
    "nb_predict = nb_model.predict(main_test)"
   ]
  },
  {
   "cell_type": "code",
   "execution_count": 41,
   "id": "a1c3970c",
   "metadata": {},
   "outputs": [
    {
     "name": "stdout",
     "output_type": "stream",
     "text": [
      "              precision    recall  f1-score   support\n",
      "\n",
      "           0       0.70      0.59      0.64       386\n",
      "           1       0.43      0.56      0.48       215\n",
      "\n",
      "    accuracy                           0.58       601\n",
      "   macro avg       0.57      0.57      0.56       601\n",
      "weighted avg       0.61      0.58      0.58       601\n",
      "\n",
      "              precision    recall  f1-score   support\n",
      "\n",
      "           0       0.98      0.70      0.81       555\n",
      "           1       0.19      0.85      0.31        46\n",
      "\n",
      "    accuracy                           0.71       601\n",
      "   macro avg       0.58      0.77      0.56       601\n",
      "weighted avg       0.92      0.71      0.78       601\n",
      "\n"
     ]
    }
   ],
   "source": [
    "# classification report for first column\n",
    "print(classification_report(target_test.iloc[:,0], nb_predict[:,0]))\n",
    "\n",
    "# classification report for second column\n",
    "print(classification_report(target_test.iloc[:,1], nb_predict[:,1]))"
   ]
  },
  {
   "cell_type": "code",
   "execution_count": 42,
   "id": "025dd2a4",
   "metadata": {},
   "outputs": [
    {
     "data": {
      "text/plain": [
       "Text(0.5, 384.16, 'Predicted')"
      ]
     },
     "execution_count": 42,
     "metadata": {},
     "output_type": "execute_result"
    },
    {
     "data": {
      "image/png": "[encoded data removed]",
      "text/plain": [
       "<Figure size 432x432 with 2 Axes>"
      ]
     },
     "metadata": {},
     "output_type": "display_data"
    }
   ],
   "source": [
    "# confusion matrix\n",
    "naives_cf = confusion_matrix(target_test.iloc[:,0], nb_predict[:,0])\n",
    "\n",
    "# name of classes\n",
    "class_names=[0,1]\n",
    "fig, ax =plt.subplots()\n",
    "tick_marks = np.arange(len(class_names))\n",
    "plt.xticks(tick_marks, class_names)\n",
    "plt.yticks(tick_marks, class_names)\n",
    "\n",
    "#create heatmap for confusion matrix\n",
    "sns.heatmap(pd.DataFrame(naives_cf), annot=True, cmap='OrRd', fmt='g')\n",
    "ax.xaxis.set_label_position('top')\n",
    "plt.tight_layout()\n",
    "plt.title(\"Naive Bayes Confusion matrix 'X realized something about the situation2'\", y=1.1)\n",
    "plt.ylabel('Actual')\n",
    "plt.xlabel('Predicted')"
   ]
  },
  {
   "cell_type": "code",
   "execution_count": 43,
   "id": "c8a7e493",
   "metadata": {},
   "outputs": [
    {
     "data": {
      "text/plain": [
       "Text(0.5, 384.16, 'Predicted')"
      ]
     },
     "execution_count": 43,
     "metadata": {},
     "output_type": "execute_result"
    },
    {
     "data": {
      "image/png": "[encoded data removed]",
      "text/plain": [
       "<Figure size 432x432 with 2 Axes>"
      ]
     },
     "metadata": {},
     "output_type": "display_data"
    }
   ],
   "source": [
    "# confusion matrix\n",
    "naives_cf = confusion_matrix(target_test.iloc[:,1], nb_predict[:,1])\n",
    "\n",
    "# name of classes\n",
    "class_names=[0,1]\n",
    "fig, ax =plt.subplots()\n",
    "tick_marks = np.arange(len(class_names))\n",
    "plt.xticks(tick_marks, class_names)\n",
    "plt.yticks(tick_marks, class_names)\n",
    "\n",
    "#create heatmap for confusion matrix\n",
    "sns.heatmap(pd.DataFrame(naives_cf), annot=True, cmap='Set2', fmt='g')\n",
    "ax.xaxis.set_label_position('top')\n",
    "plt.tight_layout()\n",
    "plt.title(\"Naive Bayes Confusion matrix 'Z realized something about the situation2'\", y=1.1)\n",
    "plt.ylabel('Actual')\n",
    "plt.xlabel('Predicted')"
   ]
  },
  {
   "cell_type": "markdown",
   "id": "06c8dfaf",
   "metadata": {},
   "source": [
    "#### Hamming loss, Jaccard and Roc_Auc score for \"X realized something about the situation2\" for Naive Bayes"
   ]
  },
  {
   "cell_type": "code",
   "execution_count": 44,
   "id": "bebcd94b",
   "metadata": {},
   "outputs": [
    {
     "name": "stdout",
     "output_type": "stream",
     "text": [
      "Hamming loss for X_realized_something_about_the_situaion2:  0.424\n",
      "Jaccard score for X_realized_something_about_the_situaion2:  0.416\n",
      "ROC_AUC score for X_realized_something_about_the_situaion2:  0.572\n"
     ]
    }
   ],
   "source": [
    "# Print evalution metric\n",
    "\n",
    "nb_hamming = hamming_loss(target_test.iloc[:,0],nb_predict[:,0])\n",
    "nb_jaccard = jaccard_score(target_test.iloc[:,0],nb_predict[:,0], average='weighted')\n",
    "nb_roc = roc_auc_score(target_test.iloc[:,0],nb_predict[:,0])\n",
    "\n",
    "\n",
    "print('Hamming loss for X_realized_something_about_the_situaion2: ', round(nb_hamming, 3))\n",
    "print('Jaccard score for X_realized_something_about_the_situaion2: ', round(nb_jaccard, 3))\n",
    "print('ROC_AUC score for X_realized_something_about_the_situaion2: ', round(nb_roc, 3))"
   ]
  },
  {
   "cell_type": "markdown",
   "id": "8102c107",
   "metadata": {},
   "source": [
    "#### Hamming loss, Jaccard and Roc_Auc score for \"Z realized something about the situation2\" for Naive Bayes"
   ]
  },
  {
   "cell_type": "code",
   "execution_count": 45,
   "id": "8587b94d",
   "metadata": {},
   "outputs": [
    {
     "name": "stdout",
     "output_type": "stream",
     "text": [
      "Hamming loss for X_realized_something_about_the_situaion2:  0.293\n",
      "Jaccard score for X_realized_something_about_the_situaion2:  0.648\n",
      "ROC_AUC score for X_realized_something_about_the_situaion2:  0.772\n"
     ]
    }
   ],
   "source": [
    "# Print evalution metric\n",
    "\n",
    "nb_hamming1 = hamming_loss(target_test.iloc[:,1],nb_predict[:,1])\n",
    "nb_jaccard1 = jaccard_score(target_test.iloc[:,1],nb_predict[:,1], average='weighted')\n",
    "nb_roc1 = roc_auc_score(target_test.iloc[:,1],nb_predict[:,1])\n",
    "\n",
    "\n",
    "print('Hamming loss for X_realized_something_about_the_situaion2: ', round(nb_hamming1, 3))\n",
    "print('Jaccard score for X_realized_something_about_the_situaion2: ', round(nb_jaccard1, 3))\n",
    "print('ROC_AUC score for X_realized_something_about_the_situaion2: ', round(nb_roc1, 3))"
   ]
  },
  {
   "cell_type": "markdown",
   "id": "b02c9b4b",
   "metadata": {},
   "source": [
    "#### PART 2: USING SITUATIONAL ELEMENT"
   ]
  },
  {
   "cell_type": "code",
   "execution_count": 46,
   "id": "27951320",
   "metadata": {},
   "outputs": [
    {
     "data": {
      "application/vnd.jupyter.widget-view+json": {
       "model_id": "b981f69eb0794db787d5ad0fa3d97cb3"
      },
      "text/html": [
       "<div>\n",
       "<style scoped>\n",
       "    .dataframe tbody tr th:only-of-type {\n",
       "        vertical-align: middle;\n",
       "    }\n",
       "\n",
       "    .dataframe tbody tr th {\n",
       "        vertical-align: top;\n",
       "    }\n",
       "\n",
       "    .dataframe thead th {\n",
       "        text-align: right;\n",
       "    }\n",
       "</style>\n",
       "<table border=\"1\" class=\"dataframe\">\n",
       "  <thead>\n",
       "    <tr style=\"text-align: right;\">\n",
       "      <th></th>\n",
       "      <th>Age 0_20</th>\n",
       "      <th>Age 21_30</th>\n",
       "      <th>Age 31</th>\n",
       "      <th>Gender_Male</th>\n",
       "      <th>Gender_Female</th>\n",
       "      <th>Gender_Non_Binary</th>\n",
       "      <th>Work</th>\n",
       "      <th>Family</th>\n",
       "      <th>Social</th>\n",
       "      <th>Institution</th>\n",
       "      <th>...</th>\n",
       "      <th>Z_defended_themselves2</th>\n",
       "      <th>X_got_experienced_help2</th>\n",
       "      <th>Z_got_experienced_help2</th>\n",
       "      <th>X_asked_for_advice_from_their_community2</th>\n",
       "      <th>Z_asked_for_advice_from_their_community2</th>\n",
       "      <th>X_talked_to_someone_who_is_affected2</th>\n",
       "      <th>Z_talked_to_someone_who_is_affected2</th>\n",
       "      <th>X_got_someone_else_involved2</th>\n",
       "      <th>Z_got_someone_else_involved2</th>\n",
       "      <th>Positive_Negative_Outcome</th>\n",
       "    </tr>\n",
       "  </thead>\n",
       "  <tbody>\n",
       "    <tr>\n",
       "      <th>1</th>\n",
       "      <td>1</td>\n",
       "      <td>0</td>\n",
       "      <td>0</td>\n",
       "      <td>0</td>\n",
       "      <td>1</td>\n",
       "      <td>0</td>\n",
       "      <td>0</td>\n",
       "      <td>0</td>\n",
       "      <td>1</td>\n",
       "      <td>0</td>\n",
       "      <td>...</td>\n",
       "      <td>0</td>\n",
       "      <td>0</td>\n",
       "      <td>0</td>\n",
       "      <td>1</td>\n",
       "      <td>0</td>\n",
       "      <td>0</td>\n",
       "      <td>0</td>\n",
       "      <td>0</td>\n",
       "      <td>0</td>\n",
       "      <td>0</td>\n",
       "    </tr>\n",
       "    <tr>\n",
       "      <th>2</th>\n",
       "      <td>1</td>\n",
       "      <td>0</td>\n",
       "      <td>0</td>\n",
       "      <td>1</td>\n",
       "      <td>0</td>\n",
       "      <td>0</td>\n",
       "      <td>0</td>\n",
       "      <td>0</td>\n",
       "      <td>1</td>\n",
       "      <td>0</td>\n",
       "      <td>...</td>\n",
       "      <td>0</td>\n",
       "      <td>0</td>\n",
       "      <td>0</td>\n",
       "      <td>0</td>\n",
       "      <td>0</td>\n",
       "      <td>0</td>\n",
       "      <td>0</td>\n",
       "      <td>0</td>\n",
       "      <td>0</td>\n",
       "      <td>1</td>\n",
       "    </tr>\n",
       "    <tr>\n",
       "      <th>3</th>\n",
       "      <td>1</td>\n",
       "      <td>0</td>\n",
       "      <td>0</td>\n",
       "      <td>1</td>\n",
       "      <td>0</td>\n",
       "      <td>0</td>\n",
       "      <td>0</td>\n",
       "      <td>0</td>\n",
       "      <td>1</td>\n",
       "      <td>0</td>\n",
       "      <td>...</td>\n",
       "      <td>0</td>\n",
       "      <td>0</td>\n",
       "      <td>0</td>\n",
       "      <td>0</td>\n",
       "      <td>0</td>\n",
       "      <td>0</td>\n",
       "      <td>0</td>\n",
       "      <td>0</td>\n",
       "      <td>0</td>\n",
       "      <td>1</td>\n",
       "    </tr>\n",
       "    <tr>\n",
       "      <th>4</th>\n",
       "      <td>1</td>\n",
       "      <td>0</td>\n",
       "      <td>0</td>\n",
       "      <td>0</td>\n",
       "      <td>1</td>\n",
       "      <td>0</td>\n",
       "      <td>0</td>\n",
       "      <td>1</td>\n",
       "      <td>0</td>\n",
       "      <td>0</td>\n",
       "      <td>...</td>\n",
       "      <td>0</td>\n",
       "      <td>0</td>\n",
       "      <td>0</td>\n",
       "      <td>0</td>\n",
       "      <td>0</td>\n",
       "      <td>0</td>\n",
       "      <td>0</td>\n",
       "      <td>0</td>\n",
       "      <td>0</td>\n",
       "      <td>1</td>\n",
       "    </tr>\n",
       "    <tr>\n",
       "      <th>5</th>\n",
       "      <td>1</td>\n",
       "      <td>0</td>\n",
       "      <td>0</td>\n",
       "      <td>1</td>\n",
       "      <td>0</td>\n",
       "      <td>0</td>\n",
       "      <td>1</td>\n",
       "      <td>0</td>\n",
       "      <td>0</td>\n",
       "      <td>0</td>\n",
       "      <td>...</td>\n",
       "      <td>0</td>\n",
       "      <td>0</td>\n",
       "      <td>0</td>\n",
       "      <td>0</td>\n",
       "      <td>0</td>\n",
       "      <td>0</td>\n",
       "      <td>0</td>\n",
       "      <td>0</td>\n",
       "      <td>0</td>\n",
       "      <td>1</td>\n",
       "    </tr>\n",
       "  </tbody>\n",
       "</table>\n",
       "<p>5 rows × 168 columns</p>\n",
       "</div>"
      ],
      "text/plain": [
       "0 Age 0_20 Age 21_30 Age 31 Gender_Male Gender_Female Gender_Non_Binary Work  \\\n",
       "1        1         0      0           0             1                 0    0   \n",
       "2        1         0      0           1             0                 0    0   \n",
       "3        1         0      0           1             0                 0    0   \n",
       "4        1         0      0           0             1                 0    0   \n",
       "5        1         0      0           1             0                 0    1   \n",
       "\n",
       "0 Family Social Institution  ... Z_defended_themselves2  \\\n",
       "1      0      1           0  ...                      0   \n",
       "2      0      1           0  ...                      0   \n",
       "3      0      1           0  ...                      0   \n",
       "4      1      0           0  ...                      0   \n",
       "5      0      0           0  ...                      0   \n",
       "\n",
       "0 X_got_experienced_help2 Z_got_experienced_help2  \\\n",
       "1                       0                       0   \n",
       "2                       0                       0   \n",
       "3                       0                       0   \n",
       "4                       0                       0   \n",
       "5                       0                       0   \n",
       "\n",
       "0 X_asked_for_advice_from_their_community2  \\\n",
       "1                                        1   \n",
       "2                                        0   \n",
       "3                                        0   \n",
       "4                                        0   \n",
       "5                                        0   \n",
       "\n",
       "0 Z_asked_for_advice_from_their_community2  \\\n",
       "1                                        0   \n",
       "2                                        0   \n",
       "3                                        0   \n",
       "4                                        0   \n",
       "5                                        0   \n",
       "\n",
       "0 X_talked_to_someone_who_is_affected2 Z_talked_to_someone_who_is_affected2  \\\n",
       "1                                    0                                    0   \n",
       "2                                    0                                    0   \n",
       "3                                    0                                    0   \n",
       "4                                    0                                    0   \n",
       "5                                    0                                    0   \n",
       "\n",
       "0 X_got_someone_else_involved2 Z_got_someone_else_involved2  \\\n",
       "1                            0                            0   \n",
       "2                            0                            0   \n",
       "3                            0                            0   \n",
       "4                            0                            0   \n",
       "5                            0                            0   \n",
       "\n",
       "0 Positive_Negative_Outcome  \n",
       "1                         0  \n",
       "2                         1  \n",
       "3                         1  \n",
       "4                         1  \n",
       "5                         1  \n",
       "\n",
       "[5 rows x 168 columns]"
      ]
     },
     "metadata": {},
     "output_type": "display_data"
    }
   ],
   "source": [
    "# Probability of situation element - dependent and independent\n",
    "\n",
    "s_main = Naralytic.drop(Naralytic.loc[:,'X_began_or_returned_to_a_relationship_with_Z':'Z_does_not_know_what_to_do'].columns, axis = 1)\n",
    "s_target = Naralytic.loc[:,'X_began_or_returned_to_a_relationship_with_Z':'Z_does_not_know_what_to_do'].astype('string')\n",
    "\n",
    "s_main.head()"
   ]
  },
  {
   "cell_type": "code",
   "execution_count": 47,
   "id": "e28da52a",
   "metadata": {},
   "outputs": [
    {
     "data": {
      "application/vnd.jupyter.widget-view+json": {
       "model_id": "ad3aa8a76ce44481bb6575fc88a26912"
      },
      "text/html": [
       "<div>\n",
       "<style scoped>\n",
       "    .dataframe tbody tr th:only-of-type {\n",
       "        vertical-align: middle;\n",
       "    }\n",
       "\n",
       "    .dataframe tbody tr th {\n",
       "        vertical-align: top;\n",
       "    }\n",
       "\n",
       "    .dataframe thead th {\n",
       "        text-align: right;\n",
       "    }\n",
       "</style>\n",
       "<table border=\"1\" class=\"dataframe\">\n",
       "  <thead>\n",
       "    <tr style=\"text-align: right;\">\n",
       "      <th></th>\n",
       "      <th>X_began_or_returned_to_a_relationship_with_Z</th>\n",
       "      <th>X_is_leaving_the_relationship</th>\n",
       "      <th>Z_is_leaving_the_relationship</th>\n",
       "      <th>X_did_not_try_to_make_the_relationship_work</th>\n",
       "      <th>Z_did_not_try_to_make_the_relationship_work</th>\n",
       "      <th>X_made_Z_feel_uncomfortable</th>\n",
       "      <th>Z_made_X_feel_uncomfortable</th>\n",
       "      <th>X_criticized_and_complained</th>\n",
       "      <th>Z_criticized_and_complained</th>\n",
       "      <th>X_blamed_and_accused</th>\n",
       "      <th>...</th>\n",
       "      <th>X_asked_for_help_and_support</th>\n",
       "      <th>Z_asked_for_help_and_support</th>\n",
       "      <th>X_is_trying_to_understand_the_situation</th>\n",
       "      <th>Z_is_trying_to_understand_the_situation</th>\n",
       "      <th>X_is_figuring_out_what_to_do</th>\n",
       "      <th>Z_is_figuring_out_what_to_do</th>\n",
       "      <th>X_is_rationalizing_the_situation</th>\n",
       "      <th>Z_is_rationalizing_the_situation</th>\n",
       "      <th>X_does_not_know_what_to_do</th>\n",
       "      <th>Z_does_not_know_what_to_do</th>\n",
       "    </tr>\n",
       "  </thead>\n",
       "  <tbody>\n",
       "    <tr>\n",
       "      <th>1</th>\n",
       "      <td>0</td>\n",
       "      <td>0</td>\n",
       "      <td>0</td>\n",
       "      <td>0</td>\n",
       "      <td>0</td>\n",
       "      <td>0</td>\n",
       "      <td>0</td>\n",
       "      <td>0</td>\n",
       "      <td>0</td>\n",
       "      <td>0</td>\n",
       "      <td>...</td>\n",
       "      <td>0</td>\n",
       "      <td>1</td>\n",
       "      <td>1</td>\n",
       "      <td>0</td>\n",
       "      <td>1</td>\n",
       "      <td>0</td>\n",
       "      <td>0</td>\n",
       "      <td>0</td>\n",
       "      <td>0</td>\n",
       "      <td>0</td>\n",
       "    </tr>\n",
       "    <tr>\n",
       "      <th>2</th>\n",
       "      <td>0</td>\n",
       "      <td>0</td>\n",
       "      <td>0</td>\n",
       "      <td>0</td>\n",
       "      <td>0</td>\n",
       "      <td>0</td>\n",
       "      <td>0</td>\n",
       "      <td>0</td>\n",
       "      <td>0</td>\n",
       "      <td>0</td>\n",
       "      <td>...</td>\n",
       "      <td>0</td>\n",
       "      <td>0</td>\n",
       "      <td>0</td>\n",
       "      <td>0</td>\n",
       "      <td>0</td>\n",
       "      <td>0</td>\n",
       "      <td>0</td>\n",
       "      <td>0</td>\n",
       "      <td>1</td>\n",
       "      <td>0</td>\n",
       "    </tr>\n",
       "    <tr>\n",
       "      <th>3</th>\n",
       "      <td>0</td>\n",
       "      <td>0</td>\n",
       "      <td>0</td>\n",
       "      <td>0</td>\n",
       "      <td>0</td>\n",
       "      <td>0</td>\n",
       "      <td>0</td>\n",
       "      <td>0</td>\n",
       "      <td>0</td>\n",
       "      <td>0</td>\n",
       "      <td>...</td>\n",
       "      <td>0</td>\n",
       "      <td>0</td>\n",
       "      <td>0</td>\n",
       "      <td>0</td>\n",
       "      <td>0</td>\n",
       "      <td>0</td>\n",
       "      <td>0</td>\n",
       "      <td>0</td>\n",
       "      <td>1</td>\n",
       "      <td>0</td>\n",
       "    </tr>\n",
       "    <tr>\n",
       "      <th>4</th>\n",
       "      <td>0</td>\n",
       "      <td>0</td>\n",
       "      <td>0</td>\n",
       "      <td>0</td>\n",
       "      <td>0</td>\n",
       "      <td>0</td>\n",
       "      <td>0</td>\n",
       "      <td>0</td>\n",
       "      <td>0</td>\n",
       "      <td>0</td>\n",
       "      <td>...</td>\n",
       "      <td>0</td>\n",
       "      <td>0</td>\n",
       "      <td>0</td>\n",
       "      <td>0</td>\n",
       "      <td>0</td>\n",
       "      <td>0</td>\n",
       "      <td>0</td>\n",
       "      <td>0</td>\n",
       "      <td>1</td>\n",
       "      <td>0</td>\n",
       "    </tr>\n",
       "    <tr>\n",
       "      <th>5</th>\n",
       "      <td>0</td>\n",
       "      <td>0</td>\n",
       "      <td>1</td>\n",
       "      <td>0</td>\n",
       "      <td>1</td>\n",
       "      <td>0</td>\n",
       "      <td>0</td>\n",
       "      <td>0</td>\n",
       "      <td>0</td>\n",
       "      <td>0</td>\n",
       "      <td>...</td>\n",
       "      <td>0</td>\n",
       "      <td>0</td>\n",
       "      <td>1</td>\n",
       "      <td>0</td>\n",
       "      <td>1</td>\n",
       "      <td>0</td>\n",
       "      <td>0</td>\n",
       "      <td>1</td>\n",
       "      <td>0</td>\n",
       "      <td>0</td>\n",
       "    </tr>\n",
       "  </tbody>\n",
       "</table>\n",
       "<p>5 rows × 137 columns</p>\n",
       "</div>"
      ],
      "text/plain": [
       "0 X_began_or_returned_to_a_relationship_with_Z X_is_leaving_the_relationship  \\\n",
       "1                                            0                             0   \n",
       "2                                            0                             0   \n",
       "3                                            0                             0   \n",
       "4                                            0                             0   \n",
       "5                                            0                             0   \n",
       "\n",
       "0 Z_is_leaving_the_relationship X_did_not_try_to_make_the_relationship_work  \\\n",
       "1                             0                                           0   \n",
       "2                             0                                           0   \n",
       "3                             0                                           0   \n",
       "4                             0                                           0   \n",
       "5                             1                                           0   \n",
       "\n",
       "0 Z_did_not_try_to_make_the_relationship_work X_made_Z_feel_uncomfortable  \\\n",
       "1                                           0                           0   \n",
       "2                                           0                           0   \n",
       "3                                           0                           0   \n",
       "4                                           0                           0   \n",
       "5                                           1                           0   \n",
       "\n",
       "0 Z_made_X_feel_uncomfortable X_criticized_and_complained  \\\n",
       "1                           0                           0   \n",
       "2                           0                           0   \n",
       "3                           0                           0   \n",
       "4                           0                           0   \n",
       "5                           0                           0   \n",
       "\n",
       "0 Z_criticized_and_complained X_blamed_and_accused  ...  \\\n",
       "1                           0                    0  ...   \n",
       "2                           0                    0  ...   \n",
       "3                           0                    0  ...   \n",
       "4                           0                    0  ...   \n",
       "5                           0                    0  ...   \n",
       "\n",
       "0 X_asked_for_help_and_support Z_asked_for_help_and_support  \\\n",
       "1                            0                            1   \n",
       "2                            0                            0   \n",
       "3                            0                            0   \n",
       "4                            0                            0   \n",
       "5                            0                            0   \n",
       "\n",
       "0 X_is_trying_to_understand_the_situation  \\\n",
       "1                                       1   \n",
       "2                                       0   \n",
       "3                                       0   \n",
       "4                                       0   \n",
       "5                                       1   \n",
       "\n",
       "0 Z_is_trying_to_understand_the_situation X_is_figuring_out_what_to_do  \\\n",
       "1                                       0                            1   \n",
       "2                                       0                            0   \n",
       "3                                       0                            0   \n",
       "4                                       0                            0   \n",
       "5                                       0                            1   \n",
       "\n",
       "0 Z_is_figuring_out_what_to_do X_is_rationalizing_the_situation  \\\n",
       "1                            0                                0   \n",
       "2                            0                                0   \n",
       "3                            0                                0   \n",
       "4                            0                                0   \n",
       "5                            0                                0   \n",
       "\n",
       "0 Z_is_rationalizing_the_situation X_does_not_know_what_to_do  \\\n",
       "1                                0                          0   \n",
       "2                                0                          1   \n",
       "3                                0                          1   \n",
       "4                                0                          1   \n",
       "5                                1                          0   \n",
       "\n",
       "0 Z_does_not_know_what_to_do  \n",
       "1                          0  \n",
       "2                          0  \n",
       "3                          0  \n",
       "4                          0  \n",
       "5                          0  \n",
       "\n",
       "[5 rows x 137 columns]"
      ]
     },
     "metadata": {},
     "output_type": "display_data"
    }
   ],
   "source": [
    "s_target.head()"
   ]
  },
  {
   "cell_type": "code",
   "execution_count": 48,
   "id": "5cc64695",
   "metadata": {},
   "outputs": [
    {
     "name": "stdout",
     "output_type": "stream",
     "text": [
      "Training data for X: (2403, 168)\n",
      "Testing data for Y: (601, 137)\n"
     ]
    }
   ],
   "source": [
    "# Dataset split\n",
    "s_main_train, s_main_test, s_target_train, s_target_test = train_test_split(s_main, s_target, test_size=0.20)\n",
    "\n",
    "# shape of train_test split of situational element\n",
    "\n",
    "print('Training data for X:', s_main_train.shape)\n",
    "print('Testing data for Y:', s_target_test.shape)"
   ]
  },
  {
   "cell_type": "markdown",
   "id": "f49cbdc0",
   "metadata": {},
   "source": [
    "#### RANDOM FOREST: Situational Element"
   ]
  },
  {
   "cell_type": "code",
   "execution_count": 49,
   "id": "899696d2",
   "metadata": {},
   "outputs": [
    {
     "data": {
      "text/plain": [
       "MultiOutputClassifier(estimator=RandomForestClassifier(max_depth=5,\n",
       "                                                       random_state=0))"
      ]
     },
     "execution_count": 49,
     "metadata": {},
     "output_type": "execute_result"
    }
   ],
   "source": [
    "# Build model\n",
    "forest_pt2 = RandomForestClassifier(max_depth=5, random_state=0)\n",
    "\n",
    "# Train the model on training data\n",
    "rf_model_pt2 = MultiOutputClassifier(forest_pt2)\n",
    "\n",
    "rf_model_pt2.fit(s_main_train, s_target_train)"
   ]
  },
  {
   "cell_type": "code",
   "execution_count": 50,
   "id": "077594c3",
   "metadata": {},
   "outputs": [],
   "source": [
    "# Testing the data\n",
    "rf_predict_pt2 = rf_model_pt2.predict(s_main_test)\n"
   ]
  },
  {
   "cell_type": "code",
   "execution_count": 51,
   "id": "2e18f589",
   "metadata": {},
   "outputs": [
    {
     "name": "stdout",
     "output_type": "stream",
     "text": [
      "              precision    recall  f1-score   support\n",
      "\n",
      "           0       0.86      1.00      0.92       515\n",
      "           1       0.00      0.00      0.00        86\n",
      "\n",
      "    accuracy                           0.86       601\n",
      "   macro avg       0.43      0.50      0.46       601\n",
      "weighted avg       0.73      0.86      0.79       601\n",
      "\n",
      "              precision    recall  f1-score   support\n",
      "\n",
      "           0       0.88      1.00      0.94       531\n",
      "           1       0.00      0.00      0.00        70\n",
      "\n",
      "    accuracy                           0.88       601\n",
      "   macro avg       0.44      0.50      0.47       601\n",
      "weighted avg       0.78      0.88      0.83       601\n",
      "\n"
     ]
    }
   ],
   "source": [
    "# Printing classification report for first column\n",
    "print(classification_report(s_target_test.iloc[:,0], rf_predict_pt2[:,0]))\n",
    "\n",
    "\n",
    "#Print classification report for the second columns in target data\n",
    "print(classification_report(s_target_test.iloc[:,1], rf_predict_pt2[:,1]))"
   ]
  },
  {
   "cell_type": "code",
   "execution_count": 52,
   "id": "15c1b8dc",
   "metadata": {},
   "outputs": [
    {
     "data": {
      "text/plain": [
       "Text(0.5, 384.16, 'Predicted')"
      ]
     },
     "execution_count": 52,
     "metadata": {},
     "output_type": "execute_result"
    },
    {
     "data": {
      "image/png": "[encoded data removed]",
      "text/plain": [
       "<Figure size 432x432 with 2 Axes>"
      ]
     },
     "metadata": {},
     "output_type": "display_data"
    }
   ],
   "source": [
    "# confusion matrix\n",
    "random_forest_cf2 = confusion_matrix(s_target_test.iloc[:,0], rf_predict_pt2[:,0])\n",
    "\n",
    "# name of classes\n",
    "class_names=[0,1]\n",
    "fig, ax =plt.subplots()\n",
    "tick_marks = np.arange(len(class_names))\n",
    "plt.xticks(tick_marks, class_names)\n",
    "plt.yticks(tick_marks, class_names)\n",
    "\n",
    "#create heatmap for confusion matrix\n",
    "sns.heatmap(pd.DataFrame(random_forest_cf2), annot=True, cmap='vlag', fmt='g')\n",
    "ax.xaxis.set_label_position('top')\n",
    "plt.tight_layout()\n",
    "plt.title(\"Random forest confusion matrix for 'X began or returned to relationship with Z'\", y=1.1)\n",
    "plt.ylabel('Actual')\n",
    "plt.xlabel('Predicted')"
   ]
  },
  {
   "cell_type": "code",
   "execution_count": 53,
   "id": "482ea763",
   "metadata": {},
   "outputs": [
    {
     "data": {
      "text/plain": [
       "Text(0.5, 384.16, 'Predicted')"
      ]
     },
     "execution_count": 53,
     "metadata": {},
     "output_type": "execute_result"
    },
    {
     "data": {
      "image/png": "[encoded data removed]",
      "text/plain": [
       "<Figure size 432x432 with 2 Axes>"
      ]
     },
     "metadata": {},
     "output_type": "display_data"
    }
   ],
   "source": [
    "# confusion matrix\n",
    "random_forest_cf_2 = confusion_matrix(s_target_test.iloc[:,1], rf_predict_pt2[:,1])\n",
    "\n",
    "# name of classes\n",
    "class_names=[0,1]\n",
    "fig, ax =plt.subplots()\n",
    "tick_marks = np.arange(len(class_names))\n",
    "plt.xticks(tick_marks, class_names)\n",
    "plt.yticks(tick_marks, class_names)\n",
    "\n",
    "#create heatmap for confusion matrix\n",
    "sns.heatmap(pd.DataFrame(random_forest_cf2), annot=True, cmap='Oranges_r', fmt='g')\n",
    "ax.xaxis.set_label_position('top')\n",
    "plt.tight_layout()\n",
    "plt.title(\"Random forest confusion matrix for 'X is leaving the relationship'\", y=1.1)\n",
    "plt.ylabel('Actual')\n",
    "plt.xlabel('Predicted')"
   ]
  },
  {
   "cell_type": "markdown",
   "id": "ac803184",
   "metadata": {},
   "source": [
    "##### Evaluation metrics for X began or returned to relationship with Z"
   ]
  },
  {
   "cell_type": "code",
   "execution_count": 54,
   "id": "8f0fc54e",
   "metadata": {},
   "outputs": [
    {
     "name": "stdout",
     "output_type": "stream",
     "text": [
      "Hamming loss for X began or returned to relationship with Z:  0.143\n",
      "Jaccard score for X began or returned to relationship with Z:  0.734\n",
      "ROC_AUC score for X began or returned to relationship with Z:  0.5\n"
     ]
    }
   ],
   "source": [
    "# Print score of evaluation metrics\n",
    "\n",
    "hamming2 = hamming_loss(s_target_test.iloc[:,0],rf_predict_pt2[:,0])\n",
    "jaccard2 = jaccard_score(s_target_test.iloc[:,0],rf_predict_pt2[:,0], average='weighted')\n",
    "roc2 = roc_auc_score(s_target_test.iloc[:,0],rf_predict_pt2[:,0])\n",
    "\n",
    "\n",
    "print('Hamming loss for X began or returned to relationship with Z: ', round(hamming2, 3))\n",
    "print('Jaccard score for X began or returned to relationship with Z: ', round(jaccard2, 3))\n",
    "print('ROC_AUC score for X began or returned to relationship with Z: ', round(roc2, 3))"
   ]
  },
  {
   "cell_type": "markdown",
   "id": "2af8d043",
   "metadata": {},
   "source": [
    "##### Evaluation metrics for X is leaving the relationship"
   ]
  },
  {
   "cell_type": "code",
   "execution_count": 55,
   "id": "79ab4bd5",
   "metadata": {},
   "outputs": [
    {
     "name": "stdout",
     "output_type": "stream",
     "text": [
      "Hamming loss for X is leaving the relationship:  0.077\n",
      "Jaccard score for X is leaving the relationship:  0.853\n",
      "ROC_AUC score for X is leaving the relationship:  0.5\n"
     ]
    }
   ],
   "source": [
    "# Print score of evaluation metrics\n",
    "\n",
    "hamming_2 = hamming_loss(target_test.iloc[:,1],rf_predict[:,1])\n",
    "jaccard_2 = jaccard_score(target_test.iloc[:,1],rf_predict[:,1], average='weighted')\n",
    "roc_2 = roc_auc_score(target_test.iloc[:,1],rf_predict[:,1])\n",
    "\n",
    "\n",
    "print('Hamming loss for X is leaving the relationship: ', round(hamming_2, 3))\n",
    "print('Jaccard score for X is leaving the relationship: ', round(jaccard_2, 3))\n",
    "print('ROC_AUC score for X is leaving the relationship: ', round(roc_2, 3))"
   ]
  },
  {
   "cell_type": "markdown",
   "id": "5ba7aae6",
   "metadata": {},
   "source": [
    "#### SUPPORT VECTOR MODEL (SVM): Situational Element"
   ]
  },
  {
   "cell_type": "code",
   "execution_count": 56,
   "id": "8c5096f4",
   "metadata": {},
   "outputs": [],
   "source": [
    "#Create a svm Classifier\n",
    "support_vector_2 = svm.SVC(kernel='linear', random_state = 42) # Linear Kernel\n",
    "\n",
    "# Build multioutput classification\n",
    "sv_model_pt2 = MultiOutputClassifier(support_vector_2)"
   ]
  },
  {
   "cell_type": "code",
   "execution_count": 57,
   "id": "a5aa5577",
   "metadata": {},
   "outputs": [
    {
     "data": {
      "text/plain": [
       "MultiOutputClassifier(estimator=SVC(kernel='linear', random_state=42))"
      ]
     },
     "execution_count": 57,
     "metadata": {},
     "output_type": "execute_result"
    }
   ],
   "source": [
    "#Train the model using the training sets\n",
    "sv_model_pt2.fit(s_main_train, s_target_train)"
   ]
  },
  {
   "cell_type": "code",
   "execution_count": 58,
   "id": "8895bc49",
   "metadata": {},
   "outputs": [],
   "source": [
    "#Predict the response for test dataset\n",
    "svm_pred_pt2 = sv_model_pt2.predict(s_main_test)"
   ]
  },
  {
   "cell_type": "code",
   "execution_count": 59,
   "id": "bbf9fd78",
   "metadata": {},
   "outputs": [
    {
     "name": "stdout",
     "output_type": "stream",
     "text": [
      "              precision    recall  f1-score   support\n",
      "\n",
      "           0       0.88      0.96      0.92       515\n",
      "           1       0.45      0.22      0.30        86\n",
      "\n",
      "    accuracy                           0.85       601\n",
      "   macro avg       0.67      0.59      0.61       601\n",
      "weighted avg       0.82      0.85      0.83       601\n",
      "\n",
      "              precision    recall  f1-score   support\n",
      "\n",
      "           0       0.91      0.97      0.94       531\n",
      "           1       0.60      0.30      0.40        70\n",
      "\n",
      "    accuracy                           0.90       601\n",
      "   macro avg       0.76      0.64      0.67       601\n",
      "weighted avg       0.88      0.90      0.88       601\n",
      "\n"
     ]
    }
   ],
   "source": [
    "# Printing classification report for first column\n",
    "print(classification_report(s_target_test.iloc[:,0], svm_pred_pt2[:,0]))\n",
    "\n",
    "# Printing classification report for second column\n",
    "print(classification_report(s_target_test.iloc[:,1], svm_pred_pt2[:,1]))"
   ]
  },
  {
   "cell_type": "code",
   "execution_count": 60,
   "id": "53d9e364",
   "metadata": {},
   "outputs": [
    {
     "data": {
      "text/plain": [
       "Text(0.5, 384.16, 'Predicted')"
      ]
     },
     "execution_count": 60,
     "metadata": {},
     "output_type": "execute_result"
    },
    {
     "data": {
      "image/png": "[encoded data removed]",
      "text/plain": [
       "<Figure size 432x432 with 2 Axes>"
      ]
     },
     "metadata": {},
     "output_type": "display_data"
    }
   ],
   "source": [
    "# confusion matrix\n",
    "svm_cf2 = confusion_matrix(s_target_test.iloc[:,0], svm_pred_pt2[:,0])\n",
    "\n",
    "# name of classes\n",
    "class_names=[0,1]\n",
    "fig, ax =plt.subplots()\n",
    "tick_marks = np.arange(len(class_names))\n",
    "plt.xticks(tick_marks, class_names)\n",
    "plt.yticks(tick_marks, class_names)\n",
    "\n",
    "#create heatmap for confusion matrix\n",
    "sns.heatmap(pd.DataFrame(svm_cf2), annot=True, cmap='tab20c', fmt='g')\n",
    "ax.xaxis.set_label_position('top')\n",
    "plt.tight_layout()\n",
    "plt.title(\"SVM Confusion matrix for 'X began or returned to relationship with Z'\", y=1.1)\n",
    "plt.ylabel('Actual')\n",
    "plt.xlabel('Predicted')"
   ]
  },
  {
   "cell_type": "code",
   "execution_count": 61,
   "id": "84651ef8",
   "metadata": {},
   "outputs": [
    {
     "data": {
      "text/plain": [
       "Text(0.5, 384.16, 'Predicted')"
      ]
     },
     "execution_count": 61,
     "metadata": {},
     "output_type": "execute_result"
    },
    {
     "data": {
      "image/png": "[encoded data removed]",
      "text/plain": [
       "<Figure size 432x432 with 2 Axes>"
      ]
     },
     "metadata": {},
     "output_type": "display_data"
    }
   ],
   "source": [
    "# confusion matrix\n",
    "svm_cf_2 = confusion_matrix(s_target_test.iloc[:,1], svm_pred_pt2[:,1])\n",
    "\n",
    "# name of classes\n",
    "class_names=[0,1]\n",
    "fig, ax =plt.subplots()\n",
    "tick_marks = np.arange(len(class_names))\n",
    "plt.xticks(tick_marks, class_names)\n",
    "plt.yticks(tick_marks, class_names)\n",
    "\n",
    "#create heatmap for confusion matrix\n",
    "sns.heatmap(pd.DataFrame(svm_cf_2), annot=True, cmap='YlOrRd_r', fmt='g')\n",
    "ax.xaxis.set_label_position('top')\n",
    "plt.tight_layout()\n",
    "plt.title(\"SVM Confusion matrix for 'X is leaving the relationship'\", y=1.1)\n",
    "plt.ylabel('Actual')\n",
    "plt.xlabel('Predicted')"
   ]
  },
  {
   "cell_type": "markdown",
   "id": "5f03686c",
   "metadata": {},
   "source": [
    "##### Evaluation metric for X began or returned to a relationship with Z"
   ]
  },
  {
   "cell_type": "code",
   "execution_count": 62,
   "id": "16a01413",
   "metadata": {},
   "outputs": [
    {
     "name": "stdout",
     "output_type": "stream",
     "text": [
      "Hamming loss for X began or returned to a relationship with Z:  0.15\n",
      "Jaccard score for X began or returned to a relationship with Z:  0.749\n",
      "ROC_AUC score for X began or returned to a relationship with Z:  0.588\n"
     ]
    }
   ],
   "source": [
    "# Print evalution metric\n",
    "\n",
    "svm_hamming_1 = hamming_loss(s_target_test.iloc[:,0],svm_pred_pt2[:,0])\n",
    "svm_jaccard_1 = jaccard_score(s_target_test.iloc[:,0],svm_pred_pt2[:,0], average='weighted')\n",
    "svm_roc_1 = roc_auc_score(s_target_test.iloc[:,0],svm_pred_pt2[:,0])\n",
    "\n",
    "\n",
    "print('Hamming loss for X began or returned to a relationship with Z: ', round(svm_hamming_1, 3))\n",
    "print('Jaccard score for X began or returned to a relationship with Z: ', round(svm_jaccard_1, 3))\n",
    "print('ROC_AUC score for X began or returned to a relationship with Z: ', round(svm_roc_1, 3))"
   ]
  },
  {
   "cell_type": "markdown",
   "id": "ef225b79",
   "metadata": {},
   "source": [
    "##### Evaluation metrics for X is leaving the relationship"
   ]
  },
  {
   "cell_type": "code",
   "execution_count": 63,
   "id": "a3912aeb",
   "metadata": {},
   "outputs": [
    {
     "name": "stdout",
     "output_type": "stream",
     "text": [
      "Hamming loss for X is leaving the relationship:  0.105\n",
      "Jaccard score for X is leaving the relationship:  0.817\n",
      "ROC_AUC score for X is leaving the relationship:  0.637\n"
     ]
    }
   ],
   "source": [
    "# Print evalution metrics\n",
    "\n",
    "svm_hamming_2 = hamming_loss(s_target_test.iloc[:,1],svm_pred_pt2[:,1])\n",
    "svm_jaccard_2 = jaccard_score(s_target_test.iloc[:,1],svm_pred_pt2[:,1], average='weighted')\n",
    "svm_roc_2 = roc_auc_score(s_target_test.iloc[:,1],svm_pred_pt2[:,1])\n",
    "\n",
    "\n",
    "print('Hamming loss for X is leaving the relationship: ', round(svm_hamming_2, 3))\n",
    "print('Jaccard score for X is leaving the relationship: ', round(svm_jaccard_2, 3))\n",
    "print('ROC_AUC score for X is leaving the relationship: ', round(svm_roc_2, 3))"
   ]
  },
  {
   "cell_type": "markdown",
   "id": "6d6bd788",
   "metadata": {},
   "source": [
    "#### DECISION TREE: Situational Element"
   ]
  },
  {
   "cell_type": "code",
   "execution_count": 64,
   "id": "8dbfe422",
   "metadata": {},
   "outputs": [],
   "source": [
    "# fitting decision tree model\n",
    "decision_2 = DecisionTreeClassifier(criterion=\"gini\", random_state=42,max_depth=5, min_samples_split=5,min_samples_leaf=5)   \n",
    "\n",
    "# Build decision tree model in multioutput\n",
    "dt_model_pt2 = MultiOutputClassifier(decision_2)\n"
   ]
  },
  {
   "cell_type": "code",
   "execution_count": 65,
   "id": "26e0319e",
   "metadata": {},
   "outputs": [
    {
     "data": {
      "text/plain": [
       "MultiOutputClassifier(estimator=DecisionTreeClassifier(max_depth=5,\n",
       "                                                       min_samples_leaf=5,\n",
       "                                                       min_samples_split=5,\n",
       "                                                       random_state=42))"
      ]
     },
     "execution_count": 65,
     "metadata": {},
     "output_type": "execute_result"
    }
   ],
   "source": [
    "# Fitting the model\n",
    "dt_model_pt2.fit(s_main_train,s_target_train)"
   ]
  },
  {
   "cell_type": "code",
   "execution_count": 66,
   "id": "479cb5cd",
   "metadata": {},
   "outputs": [],
   "source": [
    "# predict using target variables\n",
    "dt_predict_pt2 = dt_model_pt2.predict(s_main_test)"
   ]
  },
  {
   "cell_type": "code",
   "execution_count": 67,
   "id": "dde8e8c4",
   "metadata": {},
   "outputs": [
    {
     "name": "stdout",
     "output_type": "stream",
     "text": [
      "              precision    recall  f1-score   support\n",
      "\n",
      "           0       0.88      0.97      0.92       515\n",
      "           1       0.57      0.24      0.34        86\n",
      "\n",
      "    accuracy                           0.87       601\n",
      "   macro avg       0.73      0.61      0.63       601\n",
      "weighted avg       0.84      0.87      0.84       601\n",
      "\n",
      "              precision    recall  f1-score   support\n",
      "\n",
      "           0       0.90      1.00      0.94       531\n",
      "           1       0.80      0.11      0.20        70\n",
      "\n",
      "    accuracy                           0.89       601\n",
      "   macro avg       0.85      0.56      0.57       601\n",
      "weighted avg       0.88      0.89      0.86       601\n",
      "\n"
     ]
    }
   ],
   "source": [
    "# Classification report for first column\n",
    "print(classification_report(s_target_test.iloc[:,0], dt_predict_pt2[:,0]))\n",
    "\n",
    "# Classification report for second column\n",
    "print(classification_report(s_target_test.iloc[:,1], dt_predict_pt2[:,1]))"
   ]
  },
  {
   "cell_type": "code",
   "execution_count": 68,
   "id": "27beb08b",
   "metadata": {},
   "outputs": [
    {
     "data": {
      "text/plain": [
       "Text(0.5, 384.16, 'Predicted')"
      ]
     },
     "execution_count": 68,
     "metadata": {},
     "output_type": "execute_result"
    },
    {
     "data": {
      "image/png": "[encoded data removed]",
      "text/plain": [
       "<Figure size 432x432 with 2 Axes>"
      ]
     },
     "metadata": {},
     "output_type": "display_data"
    }
   ],
   "source": [
    "# confusion matrix\n",
    "decision_cf2 = confusion_matrix(s_target_test.iloc[:,0], dt_predict_pt2[:,0])\n",
    "\n",
    "# name of classes\n",
    "class_names=[0,1]\n",
    "fig, ax =plt.subplots()\n",
    "tick_marks = np.arange(len(class_names))\n",
    "plt.xticks(tick_marks, class_names)\n",
    "plt.yticks(tick_marks, class_names)\n",
    "\n",
    "#create heatmap for confusion matrix\n",
    "sns.heatmap(pd.DataFrame(decision_cf2), annot=True, cmap='tab20c_r', fmt='g')\n",
    "ax.xaxis.set_label_position('top')\n",
    "plt.tight_layout()\n",
    "plt.title(\"Decision Tree Confusion matrix 'X began or returned to a relatiionship with Z'\", y=1.1)\n",
    "plt.ylabel('Actual')\n",
    "plt.xlabel('Predicted')"
   ]
  },
  {
   "cell_type": "code",
   "execution_count": 69,
   "id": "7f817cf0",
   "metadata": {},
   "outputs": [
    {
     "data": {
      "text/plain": [
       "Text(0.5, 384.16, 'Predicted')"
      ]
     },
     "execution_count": 69,
     "metadata": {},
     "output_type": "execute_result"
    },
    {
     "data": {
      "image/png": "[encoded data removed]",
      "text/plain": [
       "<Figure size 432x432 with 2 Axes>"
      ]
     },
     "metadata": {},
     "output_type": "display_data"
    }
   ],
   "source": [
    "# confusion matrix\n",
    "decision_cf_2 = confusion_matrix(s_target_test.iloc[:,1], dt_predict_pt2[:,1])\n",
    "\n",
    "# name of classes\n",
    "class_names=[0,1]\n",
    "fig, ax =plt.subplots()\n",
    "tick_marks = np.arange(len(class_names))\n",
    "plt.xticks(tick_marks, class_names)\n",
    "plt.yticks(tick_marks, class_names)\n",
    "\n",
    "#create heatmap for confusion matrix\n",
    "sns.heatmap(pd.DataFrame(decision_cf_2), annot=True, cmap='Blues_r', fmt='g')\n",
    "ax.xaxis.set_label_position('top')\n",
    "plt.tight_layout()\n",
    "plt.title(\"Decision Tree Confusion matrix 'X is leaving the relationship'\", y=1.1)\n",
    "plt.ylabel('Actual')\n",
    "plt.xlabel('Predicted')"
   ]
  },
  {
   "cell_type": "markdown",
   "id": "c0a08873",
   "metadata": {},
   "source": [
    "##### Evaluation metrics for X began or returned to a relationship with Z"
   ]
  },
  {
   "cell_type": "code",
   "execution_count": 70,
   "id": "bd72a6ee",
   "metadata": {},
   "outputs": [
    {
     "name": "stdout",
     "output_type": "stream",
     "text": [
      "Hamming loss for X began or returned to a relationship with Z:  0.135\n",
      "Jaccard score for X began or returned to a relationship with Z:  0.767\n",
      "ROC_AUC score for X began or returned to a relationship with Z:  0.607\n"
     ]
    }
   ],
   "source": [
    "# Print evalution metric\n",
    "\n",
    "dt_hamming_1 = hamming_loss(s_target_test.iloc[:,0],dt_predict_pt2[:,0])\n",
    "dt_jaccard_1 = jaccard_score(s_target_test.iloc[:,0],dt_predict_pt2[:,0], average='weighted')\n",
    "dt_roc_1 = roc_auc_score(s_target_test.iloc[:,0],dt_predict_pt2[:,0])\n",
    "\n",
    "\n",
    "print('Hamming loss for X began or returned to a relationship with Z: ', round(dt_hamming_1, 3))\n",
    "print('Jaccard score for X began or returned to a relationship with Z: ', round(dt_jaccard_1, 3))\n",
    "print('ROC_AUC score for X began or returned to a relationship with Z: ', round(dt_roc_1, 3))"
   ]
  },
  {
   "cell_type": "markdown",
   "id": "a8748f79",
   "metadata": {},
   "source": [
    "##### Evaluation metrics for X is leaving the relationship"
   ]
  },
  {
   "cell_type": "code",
   "execution_count": 71,
   "id": "ac932e7a",
   "metadata": {},
   "outputs": [
    {
     "name": "stdout",
     "output_type": "stream",
     "text": [
      "Hamming loss for X is leaving the relationship:  0.106\n",
      "Jaccard score for X is leaving the relationship:  0.801\n",
      "ROC_AUC score for X is leaving the relationship:  0.555\n"
     ]
    }
   ],
   "source": [
    "# Print evalution metric\n",
    "\n",
    "dt_hamming_2 = hamming_loss(s_target_test.iloc[:,1],dt_predict_pt2[:,1])\n",
    "dt_jaccard_2 = jaccard_score(s_target_test.iloc[:,1],dt_predict_pt2[:,1], average='weighted')\n",
    "dt_roc_2 = roc_auc_score(s_target_test.iloc[:,1],dt_predict_pt2[:,1])\n",
    "\n",
    "\n",
    "print('Hamming loss for X is leaving the relationship: ', round(dt_hamming_2, 3))\n",
    "print('Jaccard score for X is leaving the relationship: ', round(dt_jaccard_2, 3))\n",
    "print('ROC_AUC score for X is leaving the relationship: ', round(dt_roc_2, 3))"
   ]
  },
  {
   "cell_type": "markdown",
   "id": "c3447756",
   "metadata": {},
   "source": [
    "#### NAIVE BAYES MODEL: Situational Element"
   ]
  },
  {
   "cell_type": "code",
   "execution_count": 72,
   "id": "9c86c766",
   "metadata": {},
   "outputs": [],
   "source": [
    "# Fitting the model\n",
    "naive_bayes_2 = GaussianNB()\n",
    "\n",
    "# Build naive bayes model in multioutput classifier\n",
    "nb_model_pt2 = MultiOutputClassifier(naive_bayes_2)"
   ]
  },
  {
   "cell_type": "code",
   "execution_count": 73,
   "id": "3f303a28",
   "metadata": {},
   "outputs": [
    {
     "data": {
      "text/plain": [
       "MultiOutputClassifier(estimator=GaussianNB())"
      ]
     },
     "execution_count": 73,
     "metadata": {},
     "output_type": "execute_result"
    }
   ],
   "source": [
    "# Fitting the model\n",
    "nb_model_pt2.fit(s_main_train, s_target_train)"
   ]
  },
  {
   "cell_type": "code",
   "execution_count": 74,
   "id": "e2dc03dc",
   "metadata": {},
   "outputs": [],
   "source": [
    "# Predict using test\n",
    "nb_predict_pt2 = nb_model_pt2.predict(s_main_test)"
   ]
  },
  {
   "cell_type": "code",
   "execution_count": 75,
   "id": "360fe869",
   "metadata": {},
   "outputs": [
    {
     "name": "stdout",
     "output_type": "stream",
     "text": [
      "              precision    recall  f1-score   support\n",
      "\n",
      "           0       0.96      0.59      0.73       515\n",
      "           1       0.25      0.84      0.39        86\n",
      "\n",
      "    accuracy                           0.62       601\n",
      "   macro avg       0.60      0.71      0.56       601\n",
      "weighted avg       0.86      0.62      0.68       601\n",
      "\n",
      "              precision    recall  f1-score   support\n",
      "\n",
      "           0       0.96      0.55      0.70       531\n",
      "           1       0.19      0.81      0.31        70\n",
      "\n",
      "    accuracy                           0.58       601\n",
      "   macro avg       0.57      0.68      0.50       601\n",
      "weighted avg       0.87      0.58      0.65       601\n",
      "\n"
     ]
    }
   ],
   "source": [
    "# classification report for first column\n",
    "print(classification_report(s_target_test.iloc[:,0], nb_predict_pt2[:,0]))\n",
    "\n",
    "# classification report for second column\n",
    "print(classification_report(s_target_test.iloc[:,1], nb_predict_pt2[:,1]))"
   ]
  },
  {
   "cell_type": "code",
   "execution_count": 76,
   "id": "5f904cb2",
   "metadata": {},
   "outputs": [
    {
     "data": {
      "text/plain": [
       "Text(0.5, 384.16, 'Predicted')"
      ]
     },
     "execution_count": 76,
     "metadata": {},
     "output_type": "execute_result"
    },
    {
     "data": {
      "image/png": "[encoded data removed]",
      "text/plain": [
       "<Figure size 432x432 with 2 Axes>"
      ]
     },
     "metadata": {},
     "output_type": "display_data"
    }
   ],
   "source": [
    "# confusion matrix\n",
    "naives_cf2 = confusion_matrix(s_target_test.iloc[:,0], nb_predict_pt2[:,0])\n",
    "\n",
    "# name of classes\n",
    "class_names=[0,1]\n",
    "fig, ax =plt.subplots()\n",
    "tick_marks = np.arange(len(class_names))\n",
    "plt.xticks(tick_marks, class_names)\n",
    "plt.yticks(tick_marks, class_names)\n",
    "\n",
    "#create heatmap for confusion matrix\n",
    "sns.heatmap(pd.DataFrame(naives_cf2), annot=True, cmap='tab10_r', fmt='g')\n",
    "ax.xaxis.set_label_position('top')\n",
    "plt.tight_layout()\n",
    "plt.title(\"Naive Bayes Confusion matrix 'X began or returned to a relationship with Z'\", y=1.1)\n",
    "plt.ylabel('Actual')\n",
    "plt.xlabel('Predicted')"
   ]
  },
  {
   "cell_type": "code",
   "execution_count": 77,
   "id": "e3e2427c",
   "metadata": {},
   "outputs": [
    {
     "data": {
      "text/plain": [
       "Text(0.5, 384.16, 'Predicted')"
      ]
     },
     "execution_count": 77,
     "metadata": {},
     "output_type": "execute_result"
    },
    {
     "data": {
      "image/png": "[encoded data removed]",
      "text/plain": [
       "<Figure size 432x432 with 2 Axes>"
      ]
     },
     "metadata": {},
     "output_type": "display_data"
    }
   ],
   "source": [
    "# confusion matrix\n",
    "naives_cf_2 = confusion_matrix(s_target_test.iloc[:,1], nb_predict_pt2[:,1])\n",
    "\n",
    "# name of classes\n",
    "class_names=[0,1]\n",
    "fig, ax =plt.subplots()\n",
    "tick_marks = np.arange(len(class_names))\n",
    "plt.xticks(tick_marks, class_names)\n",
    "plt.yticks(tick_marks, class_names)\n",
    "\n",
    "#create heatmap for confusion matrix\n",
    "sns.heatmap(pd.DataFrame(naives_cf_2), annot=True, cmap='Set2', fmt='g')\n",
    "ax.xaxis.set_label_position('top')\n",
    "plt.tight_layout()\n",
    "plt.title(\"Naive Bayes Confusion matrix 'X is leaving the relationship'\", y=1.1)\n",
    "plt.ylabel('Actual')\n",
    "plt.xlabel('Predicted')"
   ]
  },
  {
   "cell_type": "markdown",
   "id": "df4cb828",
   "metadata": {},
   "source": [
    "##### Evaluation metrics for X began or returned to a relationship with Z"
   ]
  },
  {
   "cell_type": "code",
   "execution_count": 78,
   "id": "b2e3f04a",
   "metadata": {},
   "outputs": [
    {
     "name": "stdout",
     "output_type": "stream",
     "text": [
      "Hamming loss for X began or returned to a relationship with Z:  0.376\n",
      "Jaccard score for X began or returned to a relationship with Z:  0.525\n",
      "ROC_AUC score for X began or returned to a relationship with Z:  0.713\n"
     ]
    }
   ],
   "source": [
    "# Print evalution metric\n",
    "\n",
    "nb_hamming_1 = hamming_loss(s_target_test.iloc[:,0],nb_predict_pt2[:,0])\n",
    "nb_jaccard_1 = jaccard_score(s_target_test.iloc[:,0],nb_predict_pt2[:,0], average='weighted')\n",
    "nb_roc_1 = roc_auc_score(s_target_test.iloc[:,0],nb_predict_pt2[:,0])\n",
    "\n",
    "\n",
    "print('Hamming loss for X began or returned to a relationship with Z: ', round(nb_hamming_1, 3))\n",
    "print('Jaccard score for X began or returned to a relationship with Z: ', round(nb_jaccard_1, 3))\n",
    "print('ROC_AUC score for X began or returned to a relationship with Z: ', round(nb_roc_1, 3))"
   ]
  },
  {
   "cell_type": "markdown",
   "id": "69ab07eb",
   "metadata": {},
   "source": [
    "##### Evaluation metrics for X is leaving the relationship"
   ]
  },
  {
   "cell_type": "code",
   "execution_count": 79,
   "id": "2824bea1",
   "metadata": {},
   "outputs": [
    {
     "name": "stdout",
     "output_type": "stream",
     "text": [
      "Hamming loss for X is leaving the relationship:  0.423\n",
      "Jaccard score for X is leaving the relationship:  0.492\n",
      "ROC_AUC score for X is leaving the relationship:  0.68\n"
     ]
    }
   ],
   "source": [
    "# Print evalution metric\n",
    "\n",
    "nb_hamming_2 = hamming_loss(s_target_test.iloc[:,1],nb_predict_pt2[:,1])\n",
    "nb_jaccard_2 = jaccard_score(s_target_test.iloc[:,1],nb_predict_pt2[:,1], average='weighted')\n",
    "nb_roc_2 = roc_auc_score(s_target_test.iloc[:,1],nb_predict_pt2[:,1])\n",
    "\n",
    "\n",
    "print('Hamming loss for X is leaving the relationship: ', round(nb_hamming_2, 3))\n",
    "print('Jaccard score for X is leaving the relationship: ', round(nb_jaccard_2, 3))\n",
    "print('ROC_AUC score for X is leaving the relationship: ', round(nb_roc_2, 3))"
   ]
  },
  {
   "cell_type": "code",
   "execution_count": null,
   "id": "9edb6cf7",
   "metadata": {},
   "outputs": [],
   "source": []
  }
 ],
 "metadata": {
  "kernelspec": {
   "display_name": "Python 3 (ipykernel)",
   "language": "python",
   "name": "python3"
  },
  "language_info": {
   "codemirror_mode": {
    "name": "ipython",
    "version": 3
   },
   "file_extension": ".py",
   "mimetype": "text/x-python",
   "name": "python",
   "nbconvert_exporter": "python",
   "pygments_lexer": "ipython3",
   "version": "3.9.7"
  }
 },
 "nbformat": 4,
 "nbformat_minor": 5
}
